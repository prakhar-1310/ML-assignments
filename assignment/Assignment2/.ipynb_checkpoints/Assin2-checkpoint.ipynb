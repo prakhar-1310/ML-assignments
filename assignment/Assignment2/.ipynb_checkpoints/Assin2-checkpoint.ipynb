{
 "cells": [
  {
   "cell_type": "markdown",
   "id": "7a3273a3-9861-460d-842a-e69c4bfdaca2",
   "metadata": {},
   "source": [
    "# Task 1 : Creating Arrays"
   ]
  },
  {
   "cell_type": "code",
   "execution_count": 2,
   "id": "3bf93e6f-a186-49a2-929b-5c20ad1802dd",
   "metadata": {},
   "outputs": [],
   "source": [
    "import numpy as np"
   ]
  },
  {
   "cell_type": "code",
   "execution_count": 3,
   "id": "a2645392-69ec-4c00-a91b-4508861f7824",
   "metadata": {},
   "outputs": [
    {
     "data": {
      "text/plain": [
       "array([ 1,  2,  3,  4,  5,  6,  7,  8,  9, 10])"
      ]
     },
     "execution_count": 3,
     "metadata": {},
     "output_type": "execute_result"
    }
   ],
   "source": [
    "arr = np.array([i for i in range (1,11)])\n",
    "arr"
   ]
  },
  {
   "cell_type": "code",
   "execution_count": 16,
   "id": "ae0ca1cb-1700-4e1e-8f30-106e6ee89767",
   "metadata": {},
   "outputs": [
    {
     "name": "stdout",
     "output_type": "stream",
     "text": [
      "<class 'numpy.ndarray'> 10 (10,) int64\n"
     ]
    }
   ],
   "source": [
    "print(type(arr), arr.size, arr.shape, arr.dtype)"
   ]
  },
  {
   "cell_type": "code",
   "execution_count": 5,
   "id": "be53151a-78c5-4102-b15a-e6b91cc7853d",
   "metadata": {},
   "outputs": [
    {
     "data": {
      "text/plain": [
       "array([[1, 2, 3],\n",
       "       [4, 5, 6],\n",
       "       [7, 8, 9]])"
      ]
     },
     "execution_count": 5,
     "metadata": {},
     "output_type": "execute_result"
    }
   ],
   "source": [
    "arr2D = np.array([\n",
    "    [1,2,3],\n",
    "    [4,5,6],\n",
    "    [7,8,9]\n",
    "])\n",
    "arr2D"
   ]
  },
  {
   "cell_type": "code",
   "execution_count": 15,
   "id": "cff508d9-989f-4714-b951-7db1b928130e",
   "metadata": {},
   "outputs": [
    {
     "name": "stdout",
     "output_type": "stream",
     "text": [
      "<class 'numpy.ndarray'> 9 (3, 3) int64\n"
     ]
    }
   ],
   "source": [
    "print(type(arr2D), arr2D.size, arr2D.shape, arr2D.dtype)"
   ]
  },
  {
   "cell_type": "code",
   "execution_count": 11,
   "id": "73a129d5-e1d6-446f-8c96-08d3468cadb7",
   "metadata": {},
   "outputs": [
    {
     "data": {
      "text/plain": [
       "array([[[1.0e-01, 1.0e+00, 1.0e+01],\n",
       "        [2.0e-01, 2.0e+00, 2.0e+01],\n",
       "        [3.0e-01, 3.0e+00, 3.0e+01],\n",
       "        [4.0e-01, 4.0e+00, 4.0e+01],\n",
       "        [5.0e-01, 5.0e+00, 5.0e+01]],\n",
       "\n",
       "       [[6.0e-01, 6.0e+00, 6.0e+01],\n",
       "        [7.0e-01, 7.0e+00, 7.0e+01],\n",
       "        [8.0e-01, 8.0e+00, 8.0e+01],\n",
       "        [9.0e-01, 9.0e+00, 9.0e+01],\n",
       "        [1.0e+00, 1.0e+01, 1.0e+02]],\n",
       "\n",
       "       [[1.1e+00, 1.1e+01, 1.1e+02],\n",
       "        [1.2e+00, 1.2e+01, 1.2e+02],\n",
       "        [1.3e+00, 1.3e+01, 1.3e+02],\n",
       "        [1.4e+00, 1.4e+01, 1.4e+02],\n",
       "        [1.5e+00, 1.5e+01, 1.5e+02]]])"
      ]
     },
     "execution_count": 11,
     "metadata": {},
     "output_type": "execute_result"
    }
   ],
   "source": [
    "arr3D = np.array([\n",
    "    [\n",
    "        [.1,1.0,10.0],[.2,2.0,20],[.3,3.0,30.0],[.4,4.0,40.0],[.5,5.0,50.0]\n",
    "    ],\n",
    "    [\n",
    "        [.6,6.0,60.0],[.7,7.0,70.0],[.8,8.0,80.0],[.9,9.0,90.0],[1.0,10.0,100.0]\n",
    "    ],\n",
    "    [\n",
    "        [1.1,11.0,110.0],[1.2,12.0,120.0],[1.3,13.0,130.0],[1.4,14.0,140.0],[1.5,15.0,150.0]\n",
    "    ]\n",
    "])\n",
    "arr3D"
   ]
  },
  {
   "cell_type": "code",
   "execution_count": 14,
   "id": "eb550bec-0adc-4d9f-937b-475a0b3c0a3a",
   "metadata": {},
   "outputs": [
    {
     "name": "stdout",
     "output_type": "stream",
     "text": [
      "<class 'numpy.ndarray'> (3, 5, 3) 10 float64\n"
     ]
    }
   ],
   "source": [
    "print(type(arr3D), arr3D.shape, arr.size, arr3D.dtype)"
   ]
  },
  {
   "cell_type": "markdown",
   "id": "f4e2afa8-3ad1-40a5-9edc-bda5b598bb26",
   "metadata": {},
   "source": [
    "# Task 2: Array indexing and slicing"
   ]
  },
  {
   "cell_type": "code",
   "execution_count": 17,
   "id": "fa4a6324-9dc5-4728-a7fd-8baec3ed7f6c",
   "metadata": {},
   "outputs": [
    {
     "data": {
      "text/plain": [
       "array([10, 20, 30, 40, 50, 60, 70, 80, 90])"
      ]
     },
     "execution_count": 17,
     "metadata": {},
     "output_type": "execute_result"
    }
   ],
   "source": [
    "data = [10,20,30,40,50,60,70,80,90]\n",
    "arr = np.array(data)\n",
    "arr"
   ]
  },
  {
   "cell_type": "code",
   "execution_count": 19,
   "id": "8cded91f-65e7-4759-8e3c-e49003e7d0c5",
   "metadata": {},
   "outputs": [
    {
     "data": {
      "text/plain": [
       "array([10, 20, 30])"
      ]
     },
     "execution_count": 19,
     "metadata": {},
     "output_type": "execute_result"
    }
   ],
   "source": [
    "arr[0:3:]"
   ]
  },
  {
   "cell_type": "code",
   "execution_count": 20,
   "id": "715de103-a1e6-4bc6-a34a-467679c29de6",
   "metadata": {},
   "outputs": [
    {
     "data": {
      "text/plain": [
       "array([10, 30, 50, 70, 90])"
      ]
     },
     "execution_count": 20,
     "metadata": {},
     "output_type": "execute_result"
    }
   ],
   "source": [
    "arr[::2]"
   ]
  },
  {
   "cell_type": "code",
   "execution_count": 21,
   "id": "1989d9d0-04ad-4910-ad1f-744f8466e855",
   "metadata": {},
   "outputs": [
    {
     "data": {
      "text/plain": [
       "array([90, 80, 70, 60, 50, 40, 30, 20, 10])"
      ]
     },
     "execution_count": 21,
     "metadata": {},
     "output_type": "execute_result"
    }
   ],
   "source": [
    "arr[::-1]"
   ]
  },
  {
   "cell_type": "markdown",
   "id": "84c798fc-cee4-4d94-a091-eed09a5ad508",
   "metadata": {},
   "source": [
    "# Task 3 : Mathematical Operations"
   ]
  },
  {
   "cell_type": "code",
   "execution_count": 24,
   "id": "03d889ba-c3fd-42da-bf25-fd63a35f6c4f",
   "metadata": {},
   "outputs": [],
   "source": [
    "a = np.random.randint(1,20,5)\n",
    "b = np.random.randint(1,20,5)"
   ]
  },
  {
   "cell_type": "code",
   "execution_count": 27,
   "id": "9f750c41-4813-4948-a5cb-8fe9478d0456",
   "metadata": {},
   "outputs": [
    {
     "data": {
      "text/plain": [
       "array([12, 15, 16,  2, 16], dtype=int32)"
      ]
     },
     "execution_count": 27,
     "metadata": {},
     "output_type": "execute_result"
    }
   ],
   "source": [
    "# x= np.arange(1,20,5)\n",
    "a"
   ]
  },
  {
   "cell_type": "code",
   "execution_count": 28,
   "id": "0b93ce51-5ce9-4000-8652-f2e8786649b2",
   "metadata": {},
   "outputs": [
    {
     "data": {
      "text/plain": [
       "array([11,  6, 11,  1, 17], dtype=int32)"
      ]
     },
     "execution_count": 28,
     "metadata": {},
     "output_type": "execute_result"
    }
   ],
   "source": [
    "b"
   ]
  },
  {
   "cell_type": "code",
   "execution_count": 40,
   "id": "50e37205-8724-4815-a890-e0ef79f5ed46",
   "metadata": {},
   "outputs": [],
   "source": [
    "result_add=[]\n",
    "result_sub=[]\n",
    "result_multiply=[]\n",
    "result_divide=[]\n",
    "for i in range (len(a)):\n",
    "    result_add.append(a[i]+b[i])\n",
    "    result_sub.append(a[i]-b[i])\n",
    "    result_multiply.append(a[i]*b[i])\n",
    "    result_divide.append(a[i]/b[i])"
   ]
  },
  {
   "cell_type": "code",
   "execution_count": 41,
   "id": "580ea4c3-356f-48b0-83c1-842b4aa123e7",
   "metadata": {},
   "outputs": [
    {
     "name": "stdout",
     "output_type": "stream",
     "text": [
      "23,21,27,3,33,\n",
      "1,9,5,1,-1,\n",
      "132,90,176,2,272,\n",
      "1.0909090909090908,2.5,1.4545454545454546,2.0,0.9411764705882353,\n"
     ]
    }
   ],
   "source": [
    "for i in result_add:\n",
    "    print(i, end=\",\")\n",
    "print()\n",
    "for i in result_sub:\n",
    "    print(i, end=\",\")\n",
    "print()\n",
    "for i in result_multiply:\n",
    "    print(i, end=\",\")\n",
    "print()\n",
    "for i in result_divide:\n",
    "    print(i, end=\",\")\n",
    "print()"
   ]
  },
  {
   "cell_type": "code",
   "execution_count": 42,
   "id": "61244e71-ec7b-40df-80e8-e5a4c9951e39",
   "metadata": {},
   "outputs": [
    {
     "data": {
      "text/plain": [
       "np.int32(672)"
      ]
     },
     "execution_count": 42,
     "metadata": {},
     "output_type": "execute_result"
    }
   ],
   "source": [
    "dot_product = a@b\n",
    "dot_product"
   ]
  },
  {
   "cell_type": "code",
   "execution_count": 53,
   "id": "c3232a0e-db31-4a4b-85b3-cbaea7db24ea",
   "metadata": {},
   "outputs": [
    {
     "name": "stdout",
     "output_type": "stream",
     "text": [
      "12.2 15.0 5.30659966456864 28.160000000000004\n"
     ]
    }
   ],
   "source": [
    "mean = np.mean(a)\n",
    "median = np.median(a)\n",
    "standDevi = np.std(a)\n",
    "vari = np.var(a)\n",
    "print (mean, median, standDevi, vari)"
   ]
  },
  {
   "cell_type": "code",
   "execution_count": 47,
   "id": "356f9d52-8aff-4614-b23e-4032e0a85f12",
   "metadata": {},
   "outputs": [
    {
     "name": "stdout",
     "output_type": "stream",
     "text": [
      "Max: 17 index: 4\n",
      "Min: 1 index 3\n"
     ]
    }
   ],
   "source": [
    "print(\"Max:\",np.max(b),\"index:\", np.argmax(b))\n",
    "print(\"Min:\",np.min(b), \"index:\", np.argmin(b))"
   ]
  },
  {
   "cell_type": "markdown",
   "id": "fd514dc6-b59b-4a5b-a0a7-26e5795caa8a",
   "metadata": {},
   "source": [
    "# Task 4: Reshaping and Transporting"
   ]
  },
  {
   "cell_type": "code",
   "execution_count": 3,
   "id": "0b7ae228-bb81-4877-8bee-b10a19e9d7e2",
   "metadata": {},
   "outputs": [
    {
     "data": {
      "text/plain": [
       "array([ 1,  2,  3,  4,  5,  6,  7,  8,  9, 10, 11, 12])"
      ]
     },
     "execution_count": 3,
     "metadata": {},
     "output_type": "execute_result"
    }
   ],
   "source": [
    "arr = np.array([i for i in range (1,13)])\n",
    "arr"
   ]
  },
  {
   "cell_type": "code",
   "execution_count": 4,
   "id": "9f1e4e19-d02d-42e3-90f7-0201e7a3e481",
   "metadata": {},
   "outputs": [
    {
     "data": {
      "text/plain": [
       "array([[ 1,  2,  3],\n",
       "       [ 4,  5,  6],\n",
       "       [ 7,  8,  9],\n",
       "       [10, 11, 12]])"
      ]
     },
     "execution_count": 4,
     "metadata": {},
     "output_type": "execute_result"
    }
   ],
   "source": [
    "arr2D = arr.reshape((4,3))\n",
    "arr2D"
   ]
  },
  {
   "cell_type": "code",
   "execution_count": 5,
   "id": "52b646ce-faa6-431e-b2f6-f46b5f5b6740",
   "metadata": {},
   "outputs": [
    {
     "data": {
      "text/plain": [
       "array([[[ 1,  2,  3],\n",
       "        [ 4,  5,  6]],\n",
       "\n",
       "       [[ 7,  8,  9],\n",
       "        [10, 11, 12]]])"
      ]
     },
     "execution_count": 5,
     "metadata": {},
     "output_type": "execute_result"
    }
   ],
   "source": [
    "arr3D = arr.reshape((2,2,3))\n",
    "arr3D"
   ]
  },
  {
   "cell_type": "code",
   "execution_count": 6,
   "id": "5abde3eb-aca9-4606-8d39-6257aa3f4269",
   "metadata": {},
   "outputs": [
    {
     "data": {
      "text/plain": [
       "array([[ 1,  4,  7, 10],\n",
       "       [ 2,  5,  8, 11],\n",
       "       [ 3,  6,  9, 12]])"
      ]
     },
     "execution_count": 6,
     "metadata": {},
     "output_type": "execute_result"
    }
   ],
   "source": [
    "arrTranspose = arr2D.transpose()\n",
    "arrTranspose"
   ]
  },
  {
   "cell_type": "code",
   "execution_count": 7,
   "id": "c2392f61-a88c-46ca-a8f5-4421fd45e76b",
   "metadata": {},
   "outputs": [
    {
     "name": "stdout",
     "output_type": "stream",
     "text": [
      "(3, 4)\n"
     ]
    }
   ],
   "source": [
    "print(arrTranspose.shape)"
   ]
  },
  {
   "cell_type": "markdown",
   "id": "6e65dea4-c7a8-4a81-b30a-1c7ad2cc6008",
   "metadata": {},
   "source": [
    "# Task 5 : Boolean Masking and Filtering"
   ]
  },
  {
   "cell_type": "code",
   "execution_count": 8,
   "id": "32e1db40-028e-478b-88eb-51270069f580",
   "metadata": {},
   "outputs": [
    {
     "data": {
      "text/plain": [
       "array([36, 47, 40, 32, 21, 24, 48, 31, 11, 31, 39, 41, 49, 13, 38],\n",
       "      dtype=int32)"
      ]
     },
     "execution_count": 8,
     "metadata": {},
     "output_type": "execute_result"
    }
   ],
   "source": [
    "arr = np.random.randint(10,50,15)\n",
    "arr"
   ]
  },
  {
   "cell_type": "code",
   "execution_count": 9,
   "id": "893883fe-8598-4c8d-99d0-2a61ec74dd0c",
   "metadata": {},
   "outputs": [
    {
     "name": "stdout",
     "output_type": "stream",
     "text": [
      "36\n",
      "47\n",
      "40\n",
      "32\n",
      "48\n",
      "31\n",
      "31\n",
      "39\n",
      "41\n",
      "49\n",
      "38\n"
     ]
    }
   ],
   "source": [
    "for ele in filter(lambda x : x>25,arr):\n",
    "    print (ele)"
   ]
  },
  {
   "cell_type": "code",
   "execution_count": 12,
   "id": "8754bf00-b4d5-4120-8279-fd4789420a08",
   "metadata": {},
   "outputs": [
    {
     "data": {
      "text/plain": [
       "array([36, 47, 40, 32,  0,  0, 48, 31,  0, 31, 39, 41, 49,  0, 38],\n",
       "      dtype=int32)"
      ]
     },
     "execution_count": 12,
     "metadata": {},
     "output_type": "execute_result"
    }
   ],
   "source": [
    "for i in range (len(arr)):\n",
    "    if (arr[i]<30):\n",
    "        arr[i]=0\n",
    "arr"
   ]
  },
  {
   "cell_type": "code",
   "execution_count": 13,
   "id": "a3354987-d864-42e3-b708-100d4e2886a1",
   "metadata": {},
   "outputs": [
    {
     "name": "stdout",
     "output_type": "stream",
     "text": [
      "5\n"
     ]
    }
   ],
   "source": [
    "count=0\n",
    "for ele in filter(lambda x : x%5==0, arr):\n",
    "    count+=1\n",
    "print(count)"
   ]
  },
  {
   "cell_type": "markdown",
   "id": "933c31ff-ed10-482e-99db-7b56f5b9dac2",
   "metadata": {},
   "source": [
    "# Task 6 : Working with built-in functions"
   ]
  },
  {
   "cell_type": "code",
   "execution_count": 14,
   "id": "008711d4-03a2-45e9-9c08-15b9a1972b06",
   "metadata": {},
   "outputs": [
    {
     "data": {
      "text/plain": [
       "array([0.        , 0.11111111, 0.22222222, 0.33333333, 0.44444444,\n",
       "       0.55555556, 0.66666667, 0.77777778, 0.88888889, 1.        ])"
      ]
     },
     "execution_count": 14,
     "metadata": {},
     "output_type": "execute_result"
    }
   ],
   "source": [
    "arr = np.linspace(0,1,10)\n",
    "arr"
   ]
  },
  {
   "cell_type": "code",
   "execution_count": 16,
   "id": "7ac35db7-8510-4dcd-98c0-ca58d773408d",
   "metadata": {},
   "outputs": [
    {
     "data": {
      "text/plain": [
       "array([[1., 0., 0., 0.],\n",
       "       [0., 1., 0., 0.],\n",
       "       [0., 0., 1., 0.],\n",
       "       [0., 0., 0., 1.]])"
      ]
     },
     "execution_count": 16,
     "metadata": {},
     "output_type": "execute_result"
    }
   ],
   "source": [
    "arrIden = np.eye(4)\n",
    "arrIden"
   ]
  },
  {
   "cell_type": "code",
   "execution_count": 17,
   "id": "14b07326-ea2a-4b46-9fa4-8120387b7842",
   "metadata": {},
   "outputs": [
    {
     "data": {
      "text/plain": [
       "array([38,  6, 90, 91, 96, 67, 37, 22, 77, 15, 77, 30, 64, 15, 56, 24, 88,\n",
       "       91, 26, 14], dtype=int32)"
      ]
     },
     "execution_count": 17,
     "metadata": {},
     "output_type": "execute_result"
    }
   ],
   "source": [
    "arr = np.random.randint(1,100,20)\n",
    "arr"
   ]
  },
  {
   "cell_type": "code",
   "execution_count": 19,
   "id": "c8d54161-51a5-47bf-ada6-67d8ea151594",
   "metadata": {},
   "outputs": [
    {
     "data": {
      "text/plain": [
       "array([ 6, 14, 15, 15, 22, 24, 26, 30, 37, 38, 56, 64, 67, 77, 77, 88, 90,\n",
       "       91, 91, 96], dtype=int32)"
      ]
     },
     "execution_count": 19,
     "metadata": {},
     "output_type": "execute_result"
    }
   ],
   "source": [
    "arr.sort()\n",
    "arr"
   ]
  },
  {
   "cell_type": "code",
   "execution_count": 20,
   "id": "9677b227-15bd-4d5a-b03c-519890cabe94",
   "metadata": {},
   "outputs": [
    {
     "data": {
      "text/plain": [
       "array([96, 91, 91, 90, 88], dtype=int32)"
      ]
     },
     "execution_count": 20,
     "metadata": {},
     "output_type": "execute_result"
    }
   ],
   "source": [
    "arr[-1:-6:-1]"
   ]
  },
  {
   "cell_type": "markdown",
   "id": "f2df7e1f-213c-4f36-8878-1e26c461005d",
   "metadata": {},
   "source": [
    "# Task 7: Generic"
   ]
  },
  {
   "cell_type": "code",
   "execution_count": 34,
   "id": "d8dc4549-775e-48da-8fb8-fde10372fd90",
   "metadata": {},
   "outputs": [],
   "source": [
    "import time"
   ]
  },
  {
   "cell_type": "code",
   "execution_count": 48,
   "id": "c4de8fe1-230e-4a31-bcca-e2477b41ab48",
   "metadata": {},
   "outputs": [
    {
     "data": {
      "text/plain": [
       "array([[0.61413117, 0.06796598, 0.70024426, ..., 0.23310487, 0.99625401,\n",
       "        0.37135131],\n",
       "       [0.52176061, 0.23478245, 0.69069472, ..., 0.79560975, 0.52174116,\n",
       "        0.77234443],\n",
       "       [0.49892812, 0.89709629, 0.58720835, ..., 0.12047265, 0.22595394,\n",
       "        0.15499871],\n",
       "       ...,\n",
       "       [0.24193501, 0.98482714, 0.30739946, ..., 0.19989438, 0.97479236,\n",
       "        0.74908626],\n",
       "       [0.73015444, 0.45270004, 0.23291885, ..., 0.96436648, 0.19608926,\n",
       "        0.69400955],\n",
       "       [0.39761969, 0.64391561, 0.42645579, ..., 0.32308976, 0.08523076,\n",
       "        0.64286663]], shape=(100, 100))"
      ]
     },
     "execution_count": 48,
     "metadata": {},
     "output_type": "execute_result"
    }
   ],
   "source": [
    "# arr1 = np.random.randint(1,100000,size=(100,100))\n",
    "t1 = time.time()\n",
    "arr1 =np.random.rand(100,100)\n",
    "arr1"
   ]
  },
  {
   "cell_type": "code",
   "execution_count": 49,
   "id": "d6953dbc-112e-4d44-badc-655963ff03ab",
   "metadata": {},
   "outputs": [
    {
     "data": {
      "text/plain": [
       "array([[0.44730188, 0.33790015, 0.60119933, ..., 0.02249394, 0.11755839,\n",
       "        0.26999761],\n",
       "       [0.45014654, 0.16378939, 0.93942454, ..., 0.53873516, 0.53491916,\n",
       "        0.49942469],\n",
       "       [0.06808578, 0.33702769, 0.51761977, ..., 0.46221956, 0.65383147,\n",
       "        0.86466423],\n",
       "       ...,\n",
       "       [0.68758706, 0.51230664, 0.92135063, ..., 0.40326143, 0.59486527,\n",
       "        0.25577969],\n",
       "       [0.68544055, 0.77505461, 0.90098085, ..., 0.6958047 , 0.26156233,\n",
       "        0.62834791],\n",
       "       [0.36294948, 0.79048075, 0.59674041, ..., 0.48897195, 0.54805798,\n",
       "        0.97322352]], shape=(100, 100))"
      ]
     },
     "execution_count": 49,
     "metadata": {},
     "output_type": "execute_result"
    }
   ],
   "source": [
    "arr2=np.random.rand(100,100)\n",
    "arr2"
   ]
  },
  {
   "cell_type": "code",
   "execution_count": 50,
   "id": "8c541131-955e-4d2c-aa29-7f45a8c9b394",
   "metadata": {},
   "outputs": [
    {
     "data": {
      "text/plain": [
       "array([[24.52497351, 25.67588868, 22.14684141, ..., 25.04802555,\n",
       "        25.66621221, 25.05329393],\n",
       "       [24.66832349, 25.66112763, 26.81847033, ..., 25.67313922,\n",
       "        28.05614737, 24.945449  ],\n",
       "       [22.74091236, 24.41599285, 22.2614764 , ..., 25.19295574,\n",
       "        25.01533209, 23.44523412],\n",
       "       ...,\n",
       "       [22.57362149, 24.73683103, 22.8942791 , ..., 24.72736888,\n",
       "        23.58966639, 23.33361777],\n",
       "       [26.61989784, 26.46918011, 25.91791877, ..., 28.37538418,\n",
       "        28.28167857, 26.05148535],\n",
       "       [23.9352966 , 22.85297423, 23.41299297, ..., 24.78885534,\n",
       "        26.60410138, 23.48633127]], shape=(100, 100))"
      ]
     },
     "execution_count": 50,
     "metadata": {},
     "output_type": "execute_result"
    }
   ],
   "source": [
    "arr3 = arr1 @ arr2\n",
    "arr3"
   ]
  },
  {
   "cell_type": "code",
   "execution_count": 51,
   "id": "70878b2c-9f29-4a40-9ec6-5ac129598d12",
   "metadata": {},
   "outputs": [
    {
     "data": {
      "text/plain": [
       "np.float64(1.2554177647831973e+50)"
      ]
     },
     "execution_count": 51,
     "metadata": {},
     "output_type": "execute_result"
    }
   ],
   "source": [
    "detr = np.linalg.det(arr3)\n",
    "detr"
   ]
  },
  {
   "cell_type": "code",
   "execution_count": 52,
   "id": "ea025efd-324d-461b-a579-48595e2fe3eb",
   "metadata": {},
   "outputs": [
    {
     "data": {
      "text/plain": [
       "array([[  13.55801468,   -2.30160167,  -63.53182419, ...,   71.81147705,\n",
       "         -24.54672407, -124.00100163],\n",
       "       [ -13.48757573,   -4.12968116,   28.56378581, ...,  -28.56255266,\n",
       "           8.64221819,   58.82682582],\n",
       "       [   9.49261899,    1.69263151,  -27.58418435, ...,   29.34462593,\n",
       "          -9.45321573,  -55.15841041],\n",
       "       ...,\n",
       "       [  10.01852331,    1.56426584,  -31.51641779, ...,   33.97668642,\n",
       "         -11.42364776,  -64.11318413],\n",
       "       [  11.74591678,    3.0935509 ,  -31.37067014, ...,   33.14593433,\n",
       "         -10.58298801,  -63.7068433 ],\n",
       "       [  13.95042455,    1.53855507,  -42.19452663, ...,   45.32579253,\n",
       "         -14.49513708,  -84.06857979]], shape=(100, 100))"
      ]
     },
     "execution_count": 52,
     "metadata": {},
     "output_type": "execute_result"
    }
   ],
   "source": [
    "inv = np.linalg.inv(arr3)\n",
    "inv"
   ]
  },
  {
   "cell_type": "code",
   "execution_count": 53,
   "id": "471f63ae-1a75-4c50-ae16-8fb3a2469f8f",
   "metadata": {},
   "outputs": [],
   "source": [
    "t2 = time.time()"
   ]
  },
  {
   "cell_type": "code",
   "execution_count": 54,
   "id": "bdc042cf-991e-4626-a02f-b603b22aade3",
   "metadata": {},
   "outputs": [
    {
     "name": "stdout",
     "output_type": "stream",
     "text": [
      "0.9908649921417236\n"
     ]
    }
   ],
   "source": [
    "execution_Time =  t2-t1\n",
    "print(execution_Time)"
   ]
  },
  {
   "cell_type": "code",
   "execution_count": null,
   "id": "4f31410f-4726-4eb7-a7a2-3dced1a67d89",
   "metadata": {},
   "outputs": [],
   "source": []
  },
  {
   "cell_type": "code",
   "execution_count": null,
   "id": "0ddee657-1001-450b-9d5d-392b3209c594",
   "metadata": {},
   "outputs": [],
   "source": []
  }
 ],
 "metadata": {
  "kernelspec": {
   "display_name": "Python 3 (ipykernel)",
   "language": "python",
   "name": "python3"
  },
  "language_info": {
   "codemirror_mode": {
    "name": "ipython",
    "version": 3
   },
   "file_extension": ".py",
   "mimetype": "text/x-python",
   "name": "python",
   "nbconvert_exporter": "python",
   "pygments_lexer": "ipython3",
   "version": "3.12.10"
  }
 },
 "nbformat": 4,
 "nbformat_minor": 5
}
