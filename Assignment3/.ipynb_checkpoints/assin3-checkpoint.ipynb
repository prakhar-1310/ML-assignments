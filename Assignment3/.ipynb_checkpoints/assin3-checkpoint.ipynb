{
 "cells": [
  {
   "cell_type": "markdown",
   "id": "f2ecb459-47f9-4fbb-a582-84f0109e9676",
   "metadata": {},
   "source": [
    "# Task 1: Working with series"
   ]
  },
  {
   "cell_type": "code",
   "execution_count": 1,
   "id": "b166b4a7-ed54-45b9-8153-140623d0ef6e",
   "metadata": {},
   "outputs": [],
   "source": [
    "import pandas as pd"
   ]
  },
  {
   "cell_type": "code",
   "execution_count": 2,
   "id": "aed7b2c2-6ee2-4ee8-9202-9f7f074b4437",
   "metadata": {},
   "outputs": [],
   "source": [
    "data = [25,30,35,40,45]\n",
    "series = pd.Series(data)"
   ]
  },
  {
   "cell_type": "code",
   "execution_count": 3,
   "id": "9dd928d3-876d-4e20-a3c2-61b73413d441",
   "metadata": {},
   "outputs": [
    {
     "data": {
      "text/plain": [
       "0    25\n",
       "1    30\n",
       "2    35\n",
       "3    40\n",
       "4    45\n",
       "dtype: int64"
      ]
     },
     "execution_count": 3,
     "metadata": {},
     "output_type": "execute_result"
    }
   ],
   "source": [
    "series"
   ]
  },
  {
   "cell_type": "code",
   "execution_count": 4,
   "id": "97ac1bd8-99b7-45cd-87a1-b26762f4719b",
   "metadata": {},
   "outputs": [
    {
     "data": {
      "text/plain": [
       "A    25\n",
       "B    30\n",
       "C    35\n",
       "D    40\n",
       "E    45\n",
       "dtype: int64"
      ]
     },
     "execution_count": 4,
     "metadata": {},
     "output_type": "execute_result"
    }
   ],
   "source": [
    "series = pd.Series(data, index=['A','B','C','D','E'])\n",
    "series"
   ]
  },
  {
   "cell_type": "code",
   "execution_count": 5,
   "id": "59e57c57-391d-44dc-ade3-dad5a54cf8c4",
   "metadata": {},
   "outputs": [
    {
     "data": {
      "text/plain": [
       "A    25\n",
       "B    30\n",
       "C    35\n",
       "dtype: int64"
      ]
     },
     "execution_count": 5,
     "metadata": {},
     "output_type": "execute_result"
    }
   ],
   "source": [
    "series.head(3)"
   ]
  },
  {
   "cell_type": "code",
   "execution_count": 6,
   "id": "22c670cd-a232-45b6-abc9-242643dbbdaa",
   "metadata": {},
   "outputs": [
    {
     "data": {
      "text/plain": [
       "np.float64(35.0)"
      ]
     },
     "execution_count": 6,
     "metadata": {},
     "output_type": "execute_result"
    }
   ],
   "source": [
    "series.mean()"
   ]
  },
  {
   "cell_type": "code",
   "execution_count": 7,
   "id": "11a7ae54-9809-49e5-b3b4-264af34e0d51",
   "metadata": {},
   "outputs": [
    {
     "data": {
      "text/plain": [
       "np.float64(35.0)"
      ]
     },
     "execution_count": 7,
     "metadata": {},
     "output_type": "execute_result"
    }
   ],
   "source": [
    "series.median()"
   ]
  },
  {
   "cell_type": "code",
   "execution_count": 9,
   "id": "1f4d3ccd-9e54-40a3-9a49-dc6e0e2d915e",
   "metadata": {},
   "outputs": [
    {
     "data": {
      "text/plain": [
       "np.float64(7.905694150420948)"
      ]
     },
     "execution_count": 9,
     "metadata": {},
     "output_type": "execute_result"
    }
   ],
   "source": [
    "series.std()"
   ]
  },
  {
   "cell_type": "markdown",
   "id": "4c4f38f6-5d34-4296-a01f-e3724f10f555",
   "metadata": {},
   "source": [
    "# Task 2: Creating and Inspecting DataFrames"
   ]
  },
  {
   "cell_type": "code",
   "execution_count": 10,
   "id": "19953974-9db3-4a74-9ec7-81f01e3db132",
   "metadata": {},
   "outputs": [],
   "source": [
    "data = {\n",
    "    'Name' : ['Alice','Bob','Carol','David','Eve'],\n",
    "    'Age': [20,22,19,21,20],\n",
    "    'Gender': ['Female','Male','Female','Male','Female'],\n",
    "    'Marks': [85,78,92,74,88]\n",
    "}"
   ]
  },
  {
   "cell_type": "code",
   "execution_count": 17,
   "id": "86cc513f-7a28-44a2-a732-aa9b4b45a373",
   "metadata": {},
   "outputs": [
    {
     "data": {
      "text/html": [
       "<div>\n",
       "<style scoped>\n",
       "    .dataframe tbody tr th:only-of-type {\n",
       "        vertical-align: middle;\n",
       "    }\n",
       "\n",
       "    .dataframe tbody tr th {\n",
       "        vertical-align: top;\n",
       "    }\n",
       "\n",
       "    .dataframe thead th {\n",
       "        text-align: right;\n",
       "    }\n",
       "</style>\n",
       "<table border=\"1\" class=\"dataframe\">\n",
       "  <thead>\n",
       "    <tr style=\"text-align: right;\">\n",
       "      <th></th>\n",
       "      <th>Name</th>\n",
       "      <th>Age</th>\n",
       "      <th>Gender</th>\n",
       "      <th>Marks</th>\n",
       "    </tr>\n",
       "  </thead>\n",
       "  <tbody>\n",
       "    <tr>\n",
       "      <th>0</th>\n",
       "      <td>Alice</td>\n",
       "      <td>20</td>\n",
       "      <td>Female</td>\n",
       "      <td>85</td>\n",
       "    </tr>\n",
       "    <tr>\n",
       "      <th>1</th>\n",
       "      <td>Bob</td>\n",
       "      <td>22</td>\n",
       "      <td>Male</td>\n",
       "      <td>78</td>\n",
       "    </tr>\n",
       "    <tr>\n",
       "      <th>2</th>\n",
       "      <td>Carol</td>\n",
       "      <td>19</td>\n",
       "      <td>Female</td>\n",
       "      <td>92</td>\n",
       "    </tr>\n",
       "    <tr>\n",
       "      <th>3</th>\n",
       "      <td>David</td>\n",
       "      <td>21</td>\n",
       "      <td>Male</td>\n",
       "      <td>74</td>\n",
       "    </tr>\n",
       "    <tr>\n",
       "      <th>4</th>\n",
       "      <td>Eve</td>\n",
       "      <td>20</td>\n",
       "      <td>Female</td>\n",
       "      <td>88</td>\n",
       "    </tr>\n",
       "  </tbody>\n",
       "</table>\n",
       "</div>"
      ],
      "text/plain": [
       "    Name  Age  Gender  Marks\n",
       "0  Alice   20  Female     85\n",
       "1    Bob   22    Male     78\n",
       "2  Carol   19  Female     92\n",
       "3  David   21    Male     74\n",
       "4    Eve   20  Female     88"
      ]
     },
     "execution_count": 17,
     "metadata": {},
     "output_type": "execute_result"
    }
   ],
   "source": [
    "df = pd.DataFrame(data)\n",
    "df"
   ]
  },
  {
   "cell_type": "code",
   "execution_count": 18,
   "id": "586bb969-1b4e-4bef-8f11-6e376c7cbb98",
   "metadata": {},
   "outputs": [
    {
     "data": {
      "text/html": [
       "<div>\n",
       "<style scoped>\n",
       "    .dataframe tbody tr th:only-of-type {\n",
       "        vertical-align: middle;\n",
       "    }\n",
       "\n",
       "    .dataframe tbody tr th {\n",
       "        vertical-align: top;\n",
       "    }\n",
       "\n",
       "    .dataframe thead th {\n",
       "        text-align: right;\n",
       "    }\n",
       "</style>\n",
       "<table border=\"1\" class=\"dataframe\">\n",
       "  <thead>\n",
       "    <tr style=\"text-align: right;\">\n",
       "      <th></th>\n",
       "      <th>Name</th>\n",
       "      <th>Age</th>\n",
       "      <th>Gender</th>\n",
       "      <th>Marks</th>\n",
       "    </tr>\n",
       "  </thead>\n",
       "  <tbody>\n",
       "    <tr>\n",
       "      <th>0</th>\n",
       "      <td>Alice</td>\n",
       "      <td>20</td>\n",
       "      <td>Female</td>\n",
       "      <td>85</td>\n",
       "    </tr>\n",
       "    <tr>\n",
       "      <th>1</th>\n",
       "      <td>Bob</td>\n",
       "      <td>22</td>\n",
       "      <td>Male</td>\n",
       "      <td>78</td>\n",
       "    </tr>\n",
       "  </tbody>\n",
       "</table>\n",
       "</div>"
      ],
      "text/plain": [
       "    Name  Age  Gender  Marks\n",
       "0  Alice   20  Female     85\n",
       "1    Bob   22    Male     78"
      ]
     },
     "execution_count": 18,
     "metadata": {},
     "output_type": "execute_result"
    }
   ],
   "source": [
    "df.head(2)"
   ]
  },
  {
   "cell_type": "code",
   "execution_count": 19,
   "id": "d9c62167-fff3-404c-9550-9c7eefa042ee",
   "metadata": {},
   "outputs": [
    {
     "data": {
      "text/plain": [
       "Index(['Name', 'Age', 'Gender', 'Marks'], dtype='object')"
      ]
     },
     "execution_count": 19,
     "metadata": {},
     "output_type": "execute_result"
    }
   ],
   "source": [
    "df.columns"
   ]
  },
  {
   "cell_type": "code",
   "execution_count": 22,
   "id": "42b6560d-28d8-4250-a28b-16d15df7fd30",
   "metadata": {},
   "outputs": [
    {
     "data": {
      "text/plain": [
       "Name      object\n",
       "Age        int64\n",
       "Gender    object\n",
       "Marks      int64\n",
       "dtype: object"
      ]
     },
     "execution_count": 22,
     "metadata": {},
     "output_type": "execute_result"
    }
   ],
   "source": [
    "df.dtypes"
   ]
  },
  {
   "cell_type": "code",
   "execution_count": 23,
   "id": "4b03af9f-9654-4a84-a677-451dd298a431",
   "metadata": {},
   "outputs": [
    {
     "data": {
      "text/html": [
       "<div>\n",
       "<style scoped>\n",
       "    .dataframe tbody tr th:only-of-type {\n",
       "        vertical-align: middle;\n",
       "    }\n",
       "\n",
       "    .dataframe tbody tr th {\n",
       "        vertical-align: top;\n",
       "    }\n",
       "\n",
       "    .dataframe thead th {\n",
       "        text-align: right;\n",
       "    }\n",
       "</style>\n",
       "<table border=\"1\" class=\"dataframe\">\n",
       "  <thead>\n",
       "    <tr style=\"text-align: right;\">\n",
       "      <th></th>\n",
       "      <th>Age</th>\n",
       "      <th>Marks</th>\n",
       "    </tr>\n",
       "  </thead>\n",
       "  <tbody>\n",
       "    <tr>\n",
       "      <th>count</th>\n",
       "      <td>5.000000</td>\n",
       "      <td>5.000000</td>\n",
       "    </tr>\n",
       "    <tr>\n",
       "      <th>mean</th>\n",
       "      <td>20.400000</td>\n",
       "      <td>83.400000</td>\n",
       "    </tr>\n",
       "    <tr>\n",
       "      <th>std</th>\n",
       "      <td>1.140175</td>\n",
       "      <td>7.334848</td>\n",
       "    </tr>\n",
       "    <tr>\n",
       "      <th>min</th>\n",
       "      <td>19.000000</td>\n",
       "      <td>74.000000</td>\n",
       "    </tr>\n",
       "    <tr>\n",
       "      <th>25%</th>\n",
       "      <td>20.000000</td>\n",
       "      <td>78.000000</td>\n",
       "    </tr>\n",
       "    <tr>\n",
       "      <th>50%</th>\n",
       "      <td>20.000000</td>\n",
       "      <td>85.000000</td>\n",
       "    </tr>\n",
       "    <tr>\n",
       "      <th>75%</th>\n",
       "      <td>21.000000</td>\n",
       "      <td>88.000000</td>\n",
       "    </tr>\n",
       "    <tr>\n",
       "      <th>max</th>\n",
       "      <td>22.000000</td>\n",
       "      <td>92.000000</td>\n",
       "    </tr>\n",
       "  </tbody>\n",
       "</table>\n",
       "</div>"
      ],
      "text/plain": [
       "             Age      Marks\n",
       "count   5.000000   5.000000\n",
       "mean   20.400000  83.400000\n",
       "std     1.140175   7.334848\n",
       "min    19.000000  74.000000\n",
       "25%    20.000000  78.000000\n",
       "50%    20.000000  85.000000\n",
       "75%    21.000000  88.000000\n",
       "max    22.000000  92.000000"
      ]
     },
     "execution_count": 23,
     "metadata": {},
     "output_type": "execute_result"
    }
   ],
   "source": [
    "df.describe()"
   ]
  },
  {
   "cell_type": "code",
   "execution_count": 25,
   "id": "3801f3a6-da37-4a83-905f-256c1bb9545d",
   "metadata": {},
   "outputs": [
    {
     "data": {
      "text/plain": [
       "[True, False, True, False, True]"
      ]
     },
     "execution_count": 25,
     "metadata": {},
     "output_type": "execute_result"
    }
   ],
   "source": [
    "pas=[]\n",
    "for i in df['Marks']:\n",
    "    if i>=80:\n",
    "        pas.append(True)\n",
    "    else:\n",
    "        pas.append(False)\n",
    "pas"
   ]
  },
  {
   "cell_type": "code",
   "execution_count": 26,
   "id": "5ab85439-8cae-4efe-bc8c-2fe604b84099",
   "metadata": {},
   "outputs": [
    {
     "data": {
      "text/html": [
       "<div>\n",
       "<style scoped>\n",
       "    .dataframe tbody tr th:only-of-type {\n",
       "        vertical-align: middle;\n",
       "    }\n",
       "\n",
       "    .dataframe tbody tr th {\n",
       "        vertical-align: top;\n",
       "    }\n",
       "\n",
       "    .dataframe thead th {\n",
       "        text-align: right;\n",
       "    }\n",
       "</style>\n",
       "<table border=\"1\" class=\"dataframe\">\n",
       "  <thead>\n",
       "    <tr style=\"text-align: right;\">\n",
       "      <th></th>\n",
       "      <th>Name</th>\n",
       "      <th>Age</th>\n",
       "      <th>Gender</th>\n",
       "      <th>Marks</th>\n",
       "      <th>Passed</th>\n",
       "    </tr>\n",
       "  </thead>\n",
       "  <tbody>\n",
       "    <tr>\n",
       "      <th>0</th>\n",
       "      <td>Alice</td>\n",
       "      <td>20</td>\n",
       "      <td>Female</td>\n",
       "      <td>85</td>\n",
       "      <td>True</td>\n",
       "    </tr>\n",
       "    <tr>\n",
       "      <th>1</th>\n",
       "      <td>Bob</td>\n",
       "      <td>22</td>\n",
       "      <td>Male</td>\n",
       "      <td>78</td>\n",
       "      <td>False</td>\n",
       "    </tr>\n",
       "    <tr>\n",
       "      <th>2</th>\n",
       "      <td>Carol</td>\n",
       "      <td>19</td>\n",
       "      <td>Female</td>\n",
       "      <td>92</td>\n",
       "      <td>True</td>\n",
       "    </tr>\n",
       "    <tr>\n",
       "      <th>3</th>\n",
       "      <td>David</td>\n",
       "      <td>21</td>\n",
       "      <td>Male</td>\n",
       "      <td>74</td>\n",
       "      <td>False</td>\n",
       "    </tr>\n",
       "    <tr>\n",
       "      <th>4</th>\n",
       "      <td>Eve</td>\n",
       "      <td>20</td>\n",
       "      <td>Female</td>\n",
       "      <td>88</td>\n",
       "      <td>True</td>\n",
       "    </tr>\n",
       "  </tbody>\n",
       "</table>\n",
       "</div>"
      ],
      "text/plain": [
       "    Name  Age  Gender  Marks  Passed\n",
       "0  Alice   20  Female     85    True\n",
       "1    Bob   22    Male     78   False\n",
       "2  Carol   19  Female     92    True\n",
       "3  David   21    Male     74   False\n",
       "4    Eve   20  Female     88    True"
      ]
     },
     "execution_count": 26,
     "metadata": {},
     "output_type": "execute_result"
    }
   ],
   "source": [
    "df['Passed']=pas\n",
    "df"
   ]
  },
  {
   "cell_type": "markdown",
   "id": "46bf38fb-02aa-4708-82ab-c3407075aa22",
   "metadata": {},
   "source": [
    "# Task 3: Data Selection and filtering"
   ]
  },
  {
   "cell_type": "code",
   "execution_count": 28,
   "id": "4801cff5-5ed4-4a30-91cf-48bc1f1d558d",
   "metadata": {},
   "outputs": [
    {
     "data": {
      "text/html": [
       "<div>\n",
       "<style scoped>\n",
       "    .dataframe tbody tr th:only-of-type {\n",
       "        vertical-align: middle;\n",
       "    }\n",
       "\n",
       "    .dataframe tbody tr th {\n",
       "        vertical-align: top;\n",
       "    }\n",
       "\n",
       "    .dataframe thead th {\n",
       "        text-align: right;\n",
       "    }\n",
       "</style>\n",
       "<table border=\"1\" class=\"dataframe\">\n",
       "  <thead>\n",
       "    <tr style=\"text-align: right;\">\n",
       "      <th></th>\n",
       "      <th>Name</th>\n",
       "      <th>Marks</th>\n",
       "    </tr>\n",
       "  </thead>\n",
       "  <tbody>\n",
       "    <tr>\n",
       "      <th>0</th>\n",
       "      <td>Alice</td>\n",
       "      <td>85</td>\n",
       "    </tr>\n",
       "    <tr>\n",
       "      <th>1</th>\n",
       "      <td>Bob</td>\n",
       "      <td>78</td>\n",
       "    </tr>\n",
       "    <tr>\n",
       "      <th>2</th>\n",
       "      <td>Carol</td>\n",
       "      <td>92</td>\n",
       "    </tr>\n",
       "    <tr>\n",
       "      <th>3</th>\n",
       "      <td>David</td>\n",
       "      <td>74</td>\n",
       "    </tr>\n",
       "    <tr>\n",
       "      <th>4</th>\n",
       "      <td>Eve</td>\n",
       "      <td>88</td>\n",
       "    </tr>\n",
       "  </tbody>\n",
       "</table>\n",
       "</div>"
      ],
      "text/plain": [
       "    Name  Marks\n",
       "0  Alice     85\n",
       "1    Bob     78\n",
       "2  Carol     92\n",
       "3  David     74\n",
       "4    Eve     88"
      ]
     },
     "execution_count": 28,
     "metadata": {},
     "output_type": "execute_result"
    }
   ],
   "source": [
    "df[['Name', 'Marks']]"
   ]
  },
  {
   "cell_type": "code",
   "execution_count": 29,
   "id": "9106907f-bb0b-4bfb-a8c0-1e259fb46965",
   "metadata": {},
   "outputs": [
    {
     "data": {
      "text/html": [
       "<div>\n",
       "<style scoped>\n",
       "    .dataframe tbody tr th:only-of-type {\n",
       "        vertical-align: middle;\n",
       "    }\n",
       "\n",
       "    .dataframe tbody tr th {\n",
       "        vertical-align: top;\n",
       "    }\n",
       "\n",
       "    .dataframe thead th {\n",
       "        text-align: right;\n",
       "    }\n",
       "</style>\n",
       "<table border=\"1\" class=\"dataframe\">\n",
       "  <thead>\n",
       "    <tr style=\"text-align: right;\">\n",
       "      <th></th>\n",
       "      <th>Name</th>\n",
       "      <th>Age</th>\n",
       "      <th>Gender</th>\n",
       "      <th>Marks</th>\n",
       "      <th>Passed</th>\n",
       "    </tr>\n",
       "  </thead>\n",
       "  <tbody>\n",
       "    <tr>\n",
       "      <th>0</th>\n",
       "      <td>Alice</td>\n",
       "      <td>20</td>\n",
       "      <td>Female</td>\n",
       "      <td>85</td>\n",
       "      <td>True</td>\n",
       "    </tr>\n",
       "    <tr>\n",
       "      <th>2</th>\n",
       "      <td>Carol</td>\n",
       "      <td>19</td>\n",
       "      <td>Female</td>\n",
       "      <td>92</td>\n",
       "      <td>True</td>\n",
       "    </tr>\n",
       "    <tr>\n",
       "      <th>4</th>\n",
       "      <td>Eve</td>\n",
       "      <td>20</td>\n",
       "      <td>Female</td>\n",
       "      <td>88</td>\n",
       "      <td>True</td>\n",
       "    </tr>\n",
       "  </tbody>\n",
       "</table>\n",
       "</div>"
      ],
      "text/plain": [
       "    Name  Age  Gender  Marks  Passed\n",
       "0  Alice   20  Female     85    True\n",
       "2  Carol   19  Female     92    True\n",
       "4    Eve   20  Female     88    True"
      ]
     },
     "execution_count": 29,
     "metadata": {},
     "output_type": "execute_result"
    }
   ],
   "source": [
    "df[df['Marks']>80]"
   ]
  },
  {
   "cell_type": "code",
   "execution_count": 30,
   "id": "64ebd2ba-c66e-4f9b-a9ec-48374a69d8b4",
   "metadata": {},
   "outputs": [
    {
     "data": {
      "text/html": [
       "<div>\n",
       "<style scoped>\n",
       "    .dataframe tbody tr th:only-of-type {\n",
       "        vertical-align: middle;\n",
       "    }\n",
       "\n",
       "    .dataframe tbody tr th {\n",
       "        vertical-align: top;\n",
       "    }\n",
       "\n",
       "    .dataframe thead th {\n",
       "        text-align: right;\n",
       "    }\n",
       "</style>\n",
       "<table border=\"1\" class=\"dataframe\">\n",
       "  <thead>\n",
       "    <tr style=\"text-align: right;\">\n",
       "      <th></th>\n",
       "      <th>Name</th>\n",
       "      <th>Age</th>\n",
       "      <th>Gender</th>\n",
       "      <th>Marks</th>\n",
       "      <th>Passed</th>\n",
       "    </tr>\n",
       "  </thead>\n",
       "  <tbody>\n",
       "    <tr>\n",
       "      <th>2</th>\n",
       "      <td>Carol</td>\n",
       "      <td>19</td>\n",
       "      <td>Female</td>\n",
       "      <td>92</td>\n",
       "      <td>True</td>\n",
       "    </tr>\n",
       "  </tbody>\n",
       "</table>\n",
       "</div>"
      ],
      "text/plain": [
       "    Name  Age  Gender  Marks  Passed\n",
       "2  Carol   19  Female     92    True"
      ]
     },
     "execution_count": 30,
     "metadata": {},
     "output_type": "execute_result"
    }
   ],
   "source": [
    "df[df['Marks']==df['Marks'].max()]"
   ]
  },
  {
   "cell_type": "markdown",
   "id": "53d2acdb-8b8d-4187-af02-3c921f32de36",
   "metadata": {},
   "source": [
    "# Task 4: Handling Missing Data"
   ]
  },
  {
   "cell_type": "code",
   "execution_count": 40,
   "id": "f9ed075f-9541-4ddc-850f-a1a9fad1acb4",
   "metadata": {},
   "outputs": [
    {
     "data": {
      "text/html": [
       "<div>\n",
       "<style scoped>\n",
       "    .dataframe tbody tr th:only-of-type {\n",
       "        vertical-align: middle;\n",
       "    }\n",
       "\n",
       "    .dataframe tbody tr th {\n",
       "        vertical-align: top;\n",
       "    }\n",
       "\n",
       "    .dataframe thead th {\n",
       "        text-align: right;\n",
       "    }\n",
       "</style>\n",
       "<table border=\"1\" class=\"dataframe\">\n",
       "  <thead>\n",
       "    <tr style=\"text-align: right;\">\n",
       "      <th></th>\n",
       "      <th>Name</th>\n",
       "      <th>Age</th>\n",
       "      <th>Gender</th>\n",
       "      <th>Marks</th>\n",
       "      <th>Passed</th>\n",
       "    </tr>\n",
       "  </thead>\n",
       "  <tbody>\n",
       "    <tr>\n",
       "      <th>0</th>\n",
       "      <td>Alice</td>\n",
       "      <td>20.0</td>\n",
       "      <td>Female</td>\n",
       "      <td>85.0</td>\n",
       "      <td>True</td>\n",
       "    </tr>\n",
       "    <tr>\n",
       "      <th>1</th>\n",
       "      <td>Bob</td>\n",
       "      <td>22.0</td>\n",
       "      <td>Male</td>\n",
       "      <td>NaN</td>\n",
       "      <td>False</td>\n",
       "    </tr>\n",
       "    <tr>\n",
       "      <th>2</th>\n",
       "      <td>Carol</td>\n",
       "      <td>19.0</td>\n",
       "      <td>Female</td>\n",
       "      <td>92.0</td>\n",
       "      <td>True</td>\n",
       "    </tr>\n",
       "    <tr>\n",
       "      <th>3</th>\n",
       "      <td>David</td>\n",
       "      <td>21.0</td>\n",
       "      <td>Male</td>\n",
       "      <td>74.0</td>\n",
       "      <td>False</td>\n",
       "    </tr>\n",
       "    <tr>\n",
       "      <th>4</th>\n",
       "      <td>Eve</td>\n",
       "      <td>NaN</td>\n",
       "      <td>Female</td>\n",
       "      <td>88.0</td>\n",
       "      <td>True</td>\n",
       "    </tr>\n",
       "  </tbody>\n",
       "</table>\n",
       "</div>"
      ],
      "text/plain": [
       "    Name   Age  Gender  Marks  Passed\n",
       "0  Alice  20.0  Female   85.0    True\n",
       "1    Bob  22.0    Male    NaN   False\n",
       "2  Carol  19.0  Female   92.0    True\n",
       "3  David  21.0    Male   74.0   False\n",
       "4    Eve   NaN  Female   88.0    True"
      ]
     },
     "execution_count": 40,
     "metadata": {},
     "output_type": "execute_result"
    }
   ],
   "source": [
    "df.loc[1,'Marks']=None\n",
    "df.loc[4,'Age']=None\n",
    "df"
   ]
  },
  {
   "cell_type": "code",
   "execution_count": 50,
   "id": "9744c187-14be-4f28-93e9-ebfd385db7e5",
   "metadata": {},
   "outputs": [
    {
     "data": {
      "text/html": [
       "<div>\n",
       "<style scoped>\n",
       "    .dataframe tbody tr th:only-of-type {\n",
       "        vertical-align: middle;\n",
       "    }\n",
       "\n",
       "    .dataframe tbody tr th {\n",
       "        vertical-align: top;\n",
       "    }\n",
       "\n",
       "    .dataframe thead th {\n",
       "        text-align: right;\n",
       "    }\n",
       "</style>\n",
       "<table border=\"1\" class=\"dataframe\">\n",
       "  <thead>\n",
       "    <tr style=\"text-align: right;\">\n",
       "      <th></th>\n",
       "      <th>Name</th>\n",
       "      <th>Age</th>\n",
       "      <th>Gender</th>\n",
       "      <th>Marks</th>\n",
       "      <th>Passed</th>\n",
       "    </tr>\n",
       "  </thead>\n",
       "  <tbody>\n",
       "    <tr>\n",
       "      <th>0</th>\n",
       "      <td>Alice</td>\n",
       "      <td>20.0</td>\n",
       "      <td>Female</td>\n",
       "      <td>85.00</td>\n",
       "      <td>True</td>\n",
       "    </tr>\n",
       "    <tr>\n",
       "      <th>1</th>\n",
       "      <td>Bob</td>\n",
       "      <td>22.0</td>\n",
       "      <td>Male</td>\n",
       "      <td>84.75</td>\n",
       "      <td>False</td>\n",
       "    </tr>\n",
       "    <tr>\n",
       "      <th>2</th>\n",
       "      <td>Carol</td>\n",
       "      <td>19.0</td>\n",
       "      <td>Female</td>\n",
       "      <td>92.00</td>\n",
       "      <td>True</td>\n",
       "    </tr>\n",
       "    <tr>\n",
       "      <th>3</th>\n",
       "      <td>David</td>\n",
       "      <td>21.0</td>\n",
       "      <td>Male</td>\n",
       "      <td>74.00</td>\n",
       "      <td>False</td>\n",
       "    </tr>\n",
       "    <tr>\n",
       "      <th>4</th>\n",
       "      <td>Eve</td>\n",
       "      <td>20.5</td>\n",
       "      <td>Female</td>\n",
       "      <td>88.00</td>\n",
       "      <td>True</td>\n",
       "    </tr>\n",
       "  </tbody>\n",
       "</table>\n",
       "</div>"
      ],
      "text/plain": [
       "    Name   Age  Gender  Marks  Passed\n",
       "0  Alice  20.0  Female  85.00    True\n",
       "1    Bob  22.0    Male  84.75   False\n",
       "2  Carol  19.0  Female  92.00    True\n",
       "3  David  21.0    Male  74.00   False\n",
       "4    Eve  20.5  Female  88.00    True"
      ]
     },
     "execution_count": 50,
     "metadata": {},
     "output_type": "execute_result"
    }
   ],
   "source": [
    "df.fillna(df.mean(numeric_only=True), inplace=True)\n",
    "df"
   ]
  },
  {
   "cell_type": "code",
   "execution_count": 42,
   "id": "0b178fa5-952b-4534-bb5a-bc8a832ecdeb",
   "metadata": {},
   "outputs": [
    {
     "data": {
      "text/html": [
       "<div>\n",
       "<style scoped>\n",
       "    .dataframe tbody tr th:only-of-type {\n",
       "        vertical-align: middle;\n",
       "    }\n",
       "\n",
       "    .dataframe tbody tr th {\n",
       "        vertical-align: top;\n",
       "    }\n",
       "\n",
       "    .dataframe thead th {\n",
       "        text-align: right;\n",
       "    }\n",
       "</style>\n",
       "<table border=\"1\" class=\"dataframe\">\n",
       "  <thead>\n",
       "    <tr style=\"text-align: right;\">\n",
       "      <th></th>\n",
       "      <th>Name</th>\n",
       "      <th>Age</th>\n",
       "      <th>Gender</th>\n",
       "      <th>Marks</th>\n",
       "      <th>Passed</th>\n",
       "    </tr>\n",
       "  </thead>\n",
       "  <tbody>\n",
       "    <tr>\n",
       "      <th>0</th>\n",
       "      <td>Alice</td>\n",
       "      <td>20.0</td>\n",
       "      <td>Female</td>\n",
       "      <td>85.0</td>\n",
       "      <td>True</td>\n",
       "    </tr>\n",
       "    <tr>\n",
       "      <th>2</th>\n",
       "      <td>Carol</td>\n",
       "      <td>19.0</td>\n",
       "      <td>Female</td>\n",
       "      <td>92.0</td>\n",
       "      <td>True</td>\n",
       "    </tr>\n",
       "    <tr>\n",
       "      <th>3</th>\n",
       "      <td>David</td>\n",
       "      <td>21.0</td>\n",
       "      <td>Male</td>\n",
       "      <td>74.0</td>\n",
       "      <td>False</td>\n",
       "    </tr>\n",
       "  </tbody>\n",
       "</table>\n",
       "</div>"
      ],
      "text/plain": [
       "    Name   Age  Gender  Marks  Passed\n",
       "0  Alice  20.0  Female   85.0    True\n",
       "2  Carol  19.0  Female   92.0    True\n",
       "3  David  21.0    Male   74.0   False"
      ]
     },
     "execution_count": 42,
     "metadata": {},
     "output_type": "execute_result"
    }
   ],
   "source": [
    "df.dropna()"
   ]
  },
  {
   "cell_type": "markdown",
   "id": "623debaa-2e8b-4d39-bb2f-f43f39a08c7b",
   "metadata": {},
   "source": [
    "# Task 5: Grouping And Aggregation"
   ]
  },
  {
   "cell_type": "code",
   "execution_count": 45,
   "id": "2d004c04-8bd9-4952-a557-6ab34055f199",
   "metadata": {},
   "outputs": [],
   "source": [
    "gdf=df.groupby(by='Gender')"
   ]
  },
  {
   "cell_type": "code",
   "execution_count": 46,
   "id": "aa15afaa-9a4c-4247-b937-9c0d7f3e8db0",
   "metadata": {},
   "outputs": [
    {
     "data": {
      "text/html": [
       "<div>\n",
       "<style scoped>\n",
       "    .dataframe tbody tr th:only-of-type {\n",
       "        vertical-align: middle;\n",
       "    }\n",
       "\n",
       "    .dataframe tbody tr th {\n",
       "        vertical-align: top;\n",
       "    }\n",
       "\n",
       "    .dataframe thead th {\n",
       "        text-align: right;\n",
       "    }\n",
       "</style>\n",
       "<table border=\"1\" class=\"dataframe\">\n",
       "  <thead>\n",
       "    <tr style=\"text-align: right;\">\n",
       "      <th></th>\n",
       "      <th>Age</th>\n",
       "      <th>Marks</th>\n",
       "    </tr>\n",
       "    <tr>\n",
       "      <th>Gender</th>\n",
       "      <th></th>\n",
       "      <th></th>\n",
       "    </tr>\n",
       "  </thead>\n",
       "  <tbody>\n",
       "    <tr>\n",
       "      <th>Female</th>\n",
       "      <td>19.5</td>\n",
       "      <td>88.333333</td>\n",
       "    </tr>\n",
       "    <tr>\n",
       "      <th>Male</th>\n",
       "      <td>21.5</td>\n",
       "      <td>74.000000</td>\n",
       "    </tr>\n",
       "  </tbody>\n",
       "</table>\n",
       "</div>"
      ],
      "text/plain": [
       "         Age      Marks\n",
       "Gender                 \n",
       "Female  19.5  88.333333\n",
       "Male    21.5  74.000000"
      ]
     },
     "execution_count": 46,
     "metadata": {},
     "output_type": "execute_result"
    }
   ],
   "source": [
    "gdf[['Age','Marks']].mean()"
   ]
  },
  {
   "cell_type": "code",
   "execution_count": 47,
   "id": "2bbe6b30-b373-4210-ad9b-0aaa19bdcac7",
   "metadata": {},
   "outputs": [
    {
     "data": {
      "text/html": [
       "<div>\n",
       "<style scoped>\n",
       "    .dataframe tbody tr th:only-of-type {\n",
       "        vertical-align: middle;\n",
       "    }\n",
       "\n",
       "    .dataframe tbody tr th {\n",
       "        vertical-align: top;\n",
       "    }\n",
       "\n",
       "    .dataframe thead th {\n",
       "        text-align: right;\n",
       "    }\n",
       "</style>\n",
       "<table border=\"1\" class=\"dataframe\">\n",
       "  <thead>\n",
       "    <tr style=\"text-align: right;\">\n",
       "      <th></th>\n",
       "      <th>Age</th>\n",
       "      <th>Marks</th>\n",
       "    </tr>\n",
       "    <tr>\n",
       "      <th>Gender</th>\n",
       "      <th></th>\n",
       "      <th></th>\n",
       "    </tr>\n",
       "  </thead>\n",
       "  <tbody>\n",
       "    <tr>\n",
       "      <th>Female</th>\n",
       "      <td>2</td>\n",
       "      <td>3</td>\n",
       "    </tr>\n",
       "    <tr>\n",
       "      <th>Male</th>\n",
       "      <td>2</td>\n",
       "      <td>1</td>\n",
       "    </tr>\n",
       "  </tbody>\n",
       "</table>\n",
       "</div>"
      ],
      "text/plain": [
       "        Age  Marks\n",
       "Gender            \n",
       "Female    2      3\n",
       "Male      2      1"
      ]
     },
     "execution_count": 47,
     "metadata": {},
     "output_type": "execute_result"
    }
   ],
   "source": [
    "gdf[['Age','Marks']].count()"
   ]
  },
  {
   "cell_type": "markdown",
   "id": "98695ac6-5c38-48cb-aa89-fe8807be3de9",
   "metadata": {},
   "source": [
    "# Task 6: Reading and Writing Data"
   ]
  },
  {
   "cell_type": "code",
   "execution_count": 51,
   "id": "ad057a6a-c77d-4699-bc41-d72da9f21df2",
   "metadata": {},
   "outputs": [
    {
     "data": {
      "text/html": [
       "<div>\n",
       "<style scoped>\n",
       "    .dataframe tbody tr th:only-of-type {\n",
       "        vertical-align: middle;\n",
       "    }\n",
       "\n",
       "    .dataframe tbody tr th {\n",
       "        vertical-align: top;\n",
       "    }\n",
       "\n",
       "    .dataframe thead th {\n",
       "        text-align: right;\n",
       "    }\n",
       "</style>\n",
       "<table border=\"1\" class=\"dataframe\">\n",
       "  <thead>\n",
       "    <tr style=\"text-align: right;\">\n",
       "      <th></th>\n",
       "      <th>Name</th>\n",
       "      <th>Age</th>\n",
       "      <th>Gender</th>\n",
       "      <th>Marks</th>\n",
       "      <th>Passed</th>\n",
       "    </tr>\n",
       "  </thead>\n",
       "  <tbody>\n",
       "    <tr>\n",
       "      <th>0</th>\n",
       "      <td>Alice</td>\n",
       "      <td>20.0</td>\n",
       "      <td>Female</td>\n",
       "      <td>85.00</td>\n",
       "      <td>True</td>\n",
       "    </tr>\n",
       "    <tr>\n",
       "      <th>1</th>\n",
       "      <td>Bob</td>\n",
       "      <td>22.0</td>\n",
       "      <td>Male</td>\n",
       "      <td>84.75</td>\n",
       "      <td>False</td>\n",
       "    </tr>\n",
       "    <tr>\n",
       "      <th>2</th>\n",
       "      <td>Carol</td>\n",
       "      <td>19.0</td>\n",
       "      <td>Female</td>\n",
       "      <td>92.00</td>\n",
       "      <td>True</td>\n",
       "    </tr>\n",
       "    <tr>\n",
       "      <th>3</th>\n",
       "      <td>David</td>\n",
       "      <td>21.0</td>\n",
       "      <td>Male</td>\n",
       "      <td>74.00</td>\n",
       "      <td>False</td>\n",
       "    </tr>\n",
       "    <tr>\n",
       "      <th>4</th>\n",
       "      <td>Eve</td>\n",
       "      <td>20.5</td>\n",
       "      <td>Female</td>\n",
       "      <td>88.00</td>\n",
       "      <td>True</td>\n",
       "    </tr>\n",
       "  </tbody>\n",
       "</table>\n",
       "</div>"
      ],
      "text/plain": [
       "    Name   Age  Gender  Marks  Passed\n",
       "0  Alice  20.0  Female  85.00    True\n",
       "1    Bob  22.0    Male  84.75   False\n",
       "2  Carol  19.0  Female  92.00    True\n",
       "3  David  21.0    Male  74.00   False\n",
       "4    Eve  20.5  Female  88.00    True"
      ]
     },
     "execution_count": 51,
     "metadata": {},
     "output_type": "execute_result"
    }
   ],
   "source": [
    "df"
   ]
  },
  {
   "cell_type": "code",
   "execution_count": 54,
   "id": "6dcb6f24-c54d-4eec-8e2e-c692e0ab1d9e",
   "metadata": {},
   "outputs": [],
   "source": [
    "df.to_csv('student_data.csv', index=False)"
   ]
  },
  {
   "cell_type": "code",
   "execution_count": 56,
   "id": "39e8ada2-31d2-4571-b902-ff1b63a9b178",
   "metadata": {},
   "outputs": [
    {
     "data": {
      "text/html": [
       "<div>\n",
       "<style scoped>\n",
       "    .dataframe tbody tr th:only-of-type {\n",
       "        vertical-align: middle;\n",
       "    }\n",
       "\n",
       "    .dataframe tbody tr th {\n",
       "        vertical-align: top;\n",
       "    }\n",
       "\n",
       "    .dataframe thead th {\n",
       "        text-align: right;\n",
       "    }\n",
       "</style>\n",
       "<table border=\"1\" class=\"dataframe\">\n",
       "  <thead>\n",
       "    <tr style=\"text-align: right;\">\n",
       "      <th></th>\n",
       "      <th>Name</th>\n",
       "      <th>Age</th>\n",
       "      <th>Gender</th>\n",
       "      <th>Marks</th>\n",
       "      <th>Passed</th>\n",
       "    </tr>\n",
       "  </thead>\n",
       "  <tbody>\n",
       "    <tr>\n",
       "      <th>0</th>\n",
       "      <td>Alice</td>\n",
       "      <td>20.0</td>\n",
       "      <td>Female</td>\n",
       "      <td>85.00</td>\n",
       "      <td>True</td>\n",
       "    </tr>\n",
       "    <tr>\n",
       "      <th>1</th>\n",
       "      <td>Bob</td>\n",
       "      <td>22.0</td>\n",
       "      <td>Male</td>\n",
       "      <td>84.75</td>\n",
       "      <td>False</td>\n",
       "    </tr>\n",
       "    <tr>\n",
       "      <th>2</th>\n",
       "      <td>Carol</td>\n",
       "      <td>19.0</td>\n",
       "      <td>Female</td>\n",
       "      <td>92.00</td>\n",
       "      <td>True</td>\n",
       "    </tr>\n",
       "    <tr>\n",
       "      <th>3</th>\n",
       "      <td>David</td>\n",
       "      <td>21.0</td>\n",
       "      <td>Male</td>\n",
       "      <td>74.00</td>\n",
       "      <td>False</td>\n",
       "    </tr>\n",
       "    <tr>\n",
       "      <th>4</th>\n",
       "      <td>Eve</td>\n",
       "      <td>20.5</td>\n",
       "      <td>Female</td>\n",
       "      <td>88.00</td>\n",
       "      <td>True</td>\n",
       "    </tr>\n",
       "  </tbody>\n",
       "</table>\n",
       "</div>"
      ],
      "text/plain": [
       "    Name   Age  Gender  Marks  Passed\n",
       "0  Alice  20.0  Female  85.00    True\n",
       "1    Bob  22.0    Male  84.75   False\n",
       "2  Carol  19.0  Female  92.00    True\n",
       "3  David  21.0    Male  74.00   False\n",
       "4    Eve  20.5  Female  88.00    True"
      ]
     },
     "execution_count": 56,
     "metadata": {},
     "output_type": "execute_result"
    }
   ],
   "source": [
    "df_new = pd.read_csv('student_data.csv')\n",
    "df_new"
   ]
  },
  {
   "cell_type": "code",
   "execution_count": 57,
   "id": "0ae9c0d2-9455-432c-8f43-add36f9f0907",
   "metadata": {},
   "outputs": [
    {
     "data": {
      "text/html": [
       "<div>\n",
       "<style scoped>\n",
       "    .dataframe tbody tr th:only-of-type {\n",
       "        vertical-align: middle;\n",
       "    }\n",
       "\n",
       "    .dataframe tbody tr th {\n",
       "        vertical-align: top;\n",
       "    }\n",
       "\n",
       "    .dataframe thead th {\n",
       "        text-align: right;\n",
       "    }\n",
       "</style>\n",
       "<table border=\"1\" class=\"dataframe\">\n",
       "  <thead>\n",
       "    <tr style=\"text-align: right;\">\n",
       "      <th></th>\n",
       "      <th>Name</th>\n",
       "      <th>Age</th>\n",
       "      <th>Gender</th>\n",
       "      <th>Marks</th>\n",
       "      <th>Passed</th>\n",
       "    </tr>\n",
       "  </thead>\n",
       "  <tbody>\n",
       "    <tr>\n",
       "      <th>0</th>\n",
       "      <td>Alice</td>\n",
       "      <td>20.0</td>\n",
       "      <td>Female</td>\n",
       "      <td>85.00</td>\n",
       "      <td>True</td>\n",
       "    </tr>\n",
       "    <tr>\n",
       "      <th>1</th>\n",
       "      <td>Bob</td>\n",
       "      <td>22.0</td>\n",
       "      <td>Male</td>\n",
       "      <td>84.75</td>\n",
       "      <td>False</td>\n",
       "    </tr>\n",
       "    <tr>\n",
       "      <th>2</th>\n",
       "      <td>Carol</td>\n",
       "      <td>19.0</td>\n",
       "      <td>Female</td>\n",
       "      <td>92.00</td>\n",
       "      <td>True</td>\n",
       "    </tr>\n",
       "    <tr>\n",
       "      <th>3</th>\n",
       "      <td>David</td>\n",
       "      <td>21.0</td>\n",
       "      <td>Male</td>\n",
       "      <td>74.00</td>\n",
       "      <td>False</td>\n",
       "    </tr>\n",
       "    <tr>\n",
       "      <th>4</th>\n",
       "      <td>Eve</td>\n",
       "      <td>20.5</td>\n",
       "      <td>Female</td>\n",
       "      <td>88.00</td>\n",
       "      <td>True</td>\n",
       "    </tr>\n",
       "  </tbody>\n",
       "</table>\n",
       "</div>"
      ],
      "text/plain": [
       "    Name   Age  Gender  Marks  Passed\n",
       "0  Alice  20.0  Female  85.00    True\n",
       "1    Bob  22.0    Male  84.75   False\n",
       "2  Carol  19.0  Female  92.00    True\n",
       "3  David  21.0    Male  74.00   False\n",
       "4    Eve  20.5  Female  88.00    True"
      ]
     },
     "execution_count": 57,
     "metadata": {},
     "output_type": "execute_result"
    }
   ],
   "source": [
    "df_new.head(5)"
   ]
  },
  {
   "cell_type": "markdown",
   "id": "c4fa08cf-bcfc-4bbb-9c80-bb9ef1dd8b42",
   "metadata": {},
   "source": [
    "# Task 7: General"
   ]
  },
  {
   "cell_type": "code",
   "execution_count": 58,
   "id": "828a004d-9787-4a0f-b8ab-22087c42b6a7",
   "metadata": {},
   "outputs": [],
   "source": [
    "data = pd.read_csv(\"IPL2025Batters.csv\")"
   ]
  },
  {
   "cell_type": "code",
   "execution_count": 59,
   "id": "4be656e3-7e25-49fd-9739-889ef8a944c4",
   "metadata": {},
   "outputs": [
    {
     "data": {
      "text/html": [
       "<div>\n",
       "<style scoped>\n",
       "    .dataframe tbody tr th:only-of-type {\n",
       "        vertical-align: middle;\n",
       "    }\n",
       "\n",
       "    .dataframe tbody tr th {\n",
       "        vertical-align: top;\n",
       "    }\n",
       "\n",
       "    .dataframe thead th {\n",
       "        text-align: right;\n",
       "    }\n",
       "</style>\n",
       "<table border=\"1\" class=\"dataframe\">\n",
       "  <thead>\n",
       "    <tr style=\"text-align: right;\">\n",
       "      <th></th>\n",
       "      <th>Player Name</th>\n",
       "      <th>Team</th>\n",
       "      <th>Runs</th>\n",
       "      <th>Matches</th>\n",
       "      <th>Inn</th>\n",
       "      <th>No</th>\n",
       "      <th>HS</th>\n",
       "      <th>AVG</th>\n",
       "      <th>BF</th>\n",
       "      <th>SR</th>\n",
       "      <th>100s</th>\n",
       "      <th>50s</th>\n",
       "      <th>4s</th>\n",
       "      <th>6s</th>\n",
       "    </tr>\n",
       "  </thead>\n",
       "  <tbody>\n",
       "    <tr>\n",
       "      <th>0</th>\n",
       "      <td>Sai Sudharsan</td>\n",
       "      <td>GT</td>\n",
       "      <td>759</td>\n",
       "      <td>15</td>\n",
       "      <td>15</td>\n",
       "      <td>1</td>\n",
       "      <td>108*</td>\n",
       "      <td>54.21</td>\n",
       "      <td>486</td>\n",
       "      <td>156.17</td>\n",
       "      <td>1</td>\n",
       "      <td>6</td>\n",
       "      <td>88</td>\n",
       "      <td>21</td>\n",
       "    </tr>\n",
       "    <tr>\n",
       "      <th>1</th>\n",
       "      <td>Surya Kumar Yadav</td>\n",
       "      <td>MI</td>\n",
       "      <td>717</td>\n",
       "      <td>16</td>\n",
       "      <td>16</td>\n",
       "      <td>5</td>\n",
       "      <td>73*</td>\n",
       "      <td>65.18</td>\n",
       "      <td>427</td>\n",
       "      <td>167.91</td>\n",
       "      <td>0</td>\n",
       "      <td>5</td>\n",
       "      <td>69</td>\n",
       "      <td>38</td>\n",
       "    </tr>\n",
       "    <tr>\n",
       "      <th>2</th>\n",
       "      <td>Virat Kohli</td>\n",
       "      <td>RCB</td>\n",
       "      <td>657</td>\n",
       "      <td>15</td>\n",
       "      <td>15</td>\n",
       "      <td>3</td>\n",
       "      <td>73*</td>\n",
       "      <td>54.75</td>\n",
       "      <td>454</td>\n",
       "      <td>144.71</td>\n",
       "      <td>0</td>\n",
       "      <td>8</td>\n",
       "      <td>66</td>\n",
       "      <td>19</td>\n",
       "    </tr>\n",
       "    <tr>\n",
       "      <th>3</th>\n",
       "      <td>Shubman Gill</td>\n",
       "      <td>GT</td>\n",
       "      <td>650</td>\n",
       "      <td>15</td>\n",
       "      <td>15</td>\n",
       "      <td>2</td>\n",
       "      <td>93*</td>\n",
       "      <td>50.00</td>\n",
       "      <td>417</td>\n",
       "      <td>155.87</td>\n",
       "      <td>0</td>\n",
       "      <td>6</td>\n",
       "      <td>62</td>\n",
       "      <td>24</td>\n",
       "    </tr>\n",
       "    <tr>\n",
       "      <th>4</th>\n",
       "      <td>Mitchell Marsh</td>\n",
       "      <td>LSG</td>\n",
       "      <td>627</td>\n",
       "      <td>13</td>\n",
       "      <td>13</td>\n",
       "      <td>0</td>\n",
       "      <td>117</td>\n",
       "      <td>48.23</td>\n",
       "      <td>383</td>\n",
       "      <td>163.70</td>\n",
       "      <td>1</td>\n",
       "      <td>6</td>\n",
       "      <td>56</td>\n",
       "      <td>37</td>\n",
       "    </tr>\n",
       "    <tr>\n",
       "      <th>...</th>\n",
       "      <td>...</td>\n",
       "      <td>...</td>\n",
       "      <td>...</td>\n",
       "      <td>...</td>\n",
       "      <td>...</td>\n",
       "      <td>...</td>\n",
       "      <td>...</td>\n",
       "      <td>...</td>\n",
       "      <td>...</td>\n",
       "      <td>...</td>\n",
       "      <td>...</td>\n",
       "      <td>...</td>\n",
       "      <td>...</td>\n",
       "      <td>...</td>\n",
       "    </tr>\n",
       "    <tr>\n",
       "      <th>151</th>\n",
       "      <td>Khaleel Ahmed</td>\n",
       "      <td>CSK</td>\n",
       "      <td>1</td>\n",
       "      <td>14</td>\n",
       "      <td>2</td>\n",
       "      <td>2</td>\n",
       "      <td>1*</td>\n",
       "      <td>-</td>\n",
       "      <td>2</td>\n",
       "      <td>50.00</td>\n",
       "      <td>0</td>\n",
       "      <td>0</td>\n",
       "      <td>0</td>\n",
       "      <td>0</td>\n",
       "    </tr>\n",
       "    <tr>\n",
       "      <th>152</th>\n",
       "      <td>Mohit Sharma</td>\n",
       "      <td>DC</td>\n",
       "      <td>1</td>\n",
       "      <td>8</td>\n",
       "      <td>2</td>\n",
       "      <td>1</td>\n",
       "      <td>1*</td>\n",
       "      <td>1.00</td>\n",
       "      <td>3</td>\n",
       "      <td>33.33</td>\n",
       "      <td>0</td>\n",
       "      <td>0</td>\n",
       "      <td>0</td>\n",
       "      <td>0</td>\n",
       "    </tr>\n",
       "    <tr>\n",
       "      <th>153</th>\n",
       "      <td>Donovan Ferreira</td>\n",
       "      <td>DC</td>\n",
       "      <td>1</td>\n",
       "      <td>1</td>\n",
       "      <td>1</td>\n",
       "      <td>0</td>\n",
       "      <td>1</td>\n",
       "      <td>1.00</td>\n",
       "      <td>3</td>\n",
       "      <td>33.33</td>\n",
       "      <td>0</td>\n",
       "      <td>0</td>\n",
       "      <td>0</td>\n",
       "      <td>0</td>\n",
       "    </tr>\n",
       "    <tr>\n",
       "      <th>154</th>\n",
       "      <td>Digvesh Singh</td>\n",
       "      <td>LSG</td>\n",
       "      <td>1</td>\n",
       "      <td>13</td>\n",
       "      <td>2</td>\n",
       "      <td>1</td>\n",
       "      <td>1</td>\n",
       "      <td>1.00</td>\n",
       "      <td>3</td>\n",
       "      <td>33.33</td>\n",
       "      <td>0</td>\n",
       "      <td>0</td>\n",
       "      <td>0</td>\n",
       "      <td>0</td>\n",
       "    </tr>\n",
       "    <tr>\n",
       "      <th>155</th>\n",
       "      <td>Manoj Bhandage</td>\n",
       "      <td>RCB</td>\n",
       "      <td>1</td>\n",
       "      <td>1</td>\n",
       "      <td>1</td>\n",
       "      <td>0</td>\n",
       "      <td>1</td>\n",
       "      <td>1.00</td>\n",
       "      <td>4</td>\n",
       "      <td>25.00</td>\n",
       "      <td>0</td>\n",
       "      <td>0</td>\n",
       "      <td>0</td>\n",
       "      <td>0</td>\n",
       "    </tr>\n",
       "  </tbody>\n",
       "</table>\n",
       "<p>156 rows × 14 columns</p>\n",
       "</div>"
      ],
      "text/plain": [
       "           Player Name Team  Runs  Matches  Inn  No    HS    AVG   BF      SR  \\\n",
       "0        Sai Sudharsan   GT   759       15   15   1  108*  54.21  486  156.17   \n",
       "1    Surya Kumar Yadav   MI   717       16   16   5   73*  65.18  427  167.91   \n",
       "2          Virat Kohli  RCB   657       15   15   3   73*  54.75  454  144.71   \n",
       "3         Shubman Gill   GT   650       15   15   2   93*  50.00  417  155.87   \n",
       "4       Mitchell Marsh  LSG   627       13   13   0   117  48.23  383  163.70   \n",
       "..                 ...  ...   ...      ...  ...  ..   ...    ...  ...     ...   \n",
       "151      Khaleel Ahmed  CSK     1       14    2   2    1*      -    2   50.00   \n",
       "152       Mohit Sharma   DC     1        8    2   1    1*   1.00    3   33.33   \n",
       "153   Donovan Ferreira   DC     1        1    1   0     1   1.00    3   33.33   \n",
       "154      Digvesh Singh  LSG     1       13    2   1     1   1.00    3   33.33   \n",
       "155     Manoj Bhandage  RCB     1        1    1   0     1   1.00    4   25.00   \n",
       "\n",
       "     100s  50s  4s  6s  \n",
       "0       1    6  88  21  \n",
       "1       0    5  69  38  \n",
       "2       0    8  66  19  \n",
       "3       0    6  62  24  \n",
       "4       1    6  56  37  \n",
       "..    ...  ...  ..  ..  \n",
       "151     0    0   0   0  \n",
       "152     0    0   0   0  \n",
       "153     0    0   0   0  \n",
       "154     0    0   0   0  \n",
       "155     0    0   0   0  \n",
       "\n",
       "[156 rows x 14 columns]"
      ]
     },
     "execution_count": 59,
     "metadata": {},
     "output_type": "execute_result"
    }
   ],
   "source": [
    "data"
   ]
  },
  {
   "cell_type": "code",
   "execution_count": 60,
   "id": "7ac09ca8-3bad-4ec2-86c9-f2ba5d47a6db",
   "metadata": {},
   "outputs": [],
   "source": [
    "import pandas as pd\n",
    "import matplotlib.pyplot as plt\n",
    "import seaborn as sns"
   ]
  },
  {
   "cell_type": "code",
   "execution_count": 61,
   "id": "bf54e95d-bd95-4445-b977-476629558379",
   "metadata": {},
   "outputs": [],
   "source": [
    "data['AVG'] = pd.to_numeric(data['AVG'], errors='coerce')\n",
    "data['SR'] = pd.to_numeric(data['SR'], errors='coerce')\n",
    "data['Runs'] = pd.to_numeric(data['Runs'], errors='coerce')\n",
    "data['BF'] = pd.to_numeric(data['BF'], errors='coerce')\n",
    "data['HS'] = data['HS'].astype(str).str.replace('*', '', regex=False)\n",
    "data['HS'] = pd.to_numeric(data['HS'], errors='coerce')"
   ]
  },
  {
   "cell_type": "code",
   "execution_count": 62,
   "id": "b6b59114-fbc1-4230-8405-3e20d226f127",
   "metadata": {},
   "outputs": [
    {
     "name": "stdout",
     "output_type": "stream",
     "text": [
      "Missing Values:\n",
      "Player Name     0\n",
      "Team            0\n",
      "Runs            0\n",
      "Matches         0\n",
      "Inn             0\n",
      "No              0\n",
      "HS              0\n",
      "AVG            15\n",
      "BF              0\n",
      "SR              0\n",
      "100s            0\n",
      "50s             0\n",
      "4s              0\n",
      "6s              0\n",
      "dtype: int64\n"
     ]
    }
   ],
   "source": [
    "print(\"Missing Values:\")\n",
    "print(data.isnull().sum())"
   ]
  },
  {
   "cell_type": "code",
   "execution_count": 63,
   "id": "ab2983ea-8f44-4339-aa4b-18c64e5c4bbf",
   "metadata": {},
   "outputs": [
    {
     "name": "stdout",
     "output_type": "stream",
     "text": [
      "Summary Statistics:\n",
      "             Runs     Matches         Inn          No          HS         AVG  \\\n",
      "count  156.000000  156.000000  156.000000  156.000000  156.000000  141.000000   \n",
      "mean   161.320513    9.865385    7.153846    1.634615   40.737179   23.087234   \n",
      "std    180.352772    4.757455    4.810142    1.658163   33.637750   15.094148   \n",
      "min      1.000000    1.000000    1.000000    0.000000    1.000000    1.000000   \n",
      "25%     10.750000    6.000000    2.750000    0.000000    8.000000    9.400000   \n",
      "50%     93.500000   11.000000    6.000000    1.000000   37.000000   23.300000   \n",
      "75%    254.250000   14.000000   12.000000    3.000000   65.000000   32.750000   \n",
      "max    759.000000   17.000000   17.000000    7.000000  141.000000   65.180000   \n",
      "\n",
      "               BF          SR        100s         50s          4s          6s  \n",
      "count  156.000000  156.000000  156.000000  156.000000  156.000000  156.000000  \n",
      "mean   105.673077  134.394103    0.057692    0.916667   14.391026    8.294872  \n",
      "std    112.191838   57.237148    0.233912    1.590124   17.778774    9.515500  \n",
      "min      1.000000   25.000000    0.000000    0.000000    0.000000    0.000000  \n",
      "25%     12.000000  100.000000    0.000000    0.000000    1.000000    0.000000  \n",
      "50%     63.500000  140.005000    0.000000    0.000000    7.000000    4.000000  \n",
      "75%    164.750000  162.707500    0.000000    1.000000   23.000000   14.000000  \n",
      "max    486.000000  400.000000    1.000000    8.000000   88.000000   40.000000  \n"
     ]
    }
   ],
   "source": [
    "print(\"Summary Statistics:\")\n",
    "print(data.describe())"
   ]
  },
  {
   "cell_type": "code",
   "execution_count": 72,
   "id": "48125b5a-5763-4dcd-9de2-cb1c3b313198",
   "metadata": {},
   "outputs": [],
   "source": [
    "#  Observation:\n",
    "#  The average batting average is around 20–25.\n",
    "# Strike rate varies significantly (some above 200).\n",
    "#  Few players have 100s; many have 0."
   ]
  },
  {
   "cell_type": "code",
   "execution_count": 64,
   "id": "b9fe97cf-50a3-42ab-8eef-3d218e1bcc36",
   "metadata": {},
   "outputs": [
    {
     "name": "stderr",
     "output_type": "stream",
     "text": [
      "C:\\Users\\Prakhar Shahi\\AppData\\Local\\Temp\\ipykernel_9748\\3168291680.py:4: FutureWarning: \n",
      "\n",
      "Passing `palette` without assigning `hue` is deprecated and will be removed in v0.14.0. Assign the `y` variable to `hue` and set `legend=False` for the same effect.\n",
      "\n",
      "  sns.barplot(x='Runs', y='Player Name', data=top_runs, palette='viridis')\n"
     ]
    },
    {
     "data": {
      "image/png": "[encoded data removed]",
      "text/plain": [
       "<Figure size 1000x600 with 1 Axes>"
      ]
     },
     "metadata": {},
     "output_type": "display_data"
    }
   ],
   "source": [
    "top_runs = data.sort_values(by='Runs', ascending=False).head(10)\n",
    "\n",
    "plt.figure(figsize=(10, 6))\n",
    "sns.barplot(x='Runs', y='Player Name', data=top_runs, palette='viridis')\n",
    "plt.title(\"Top 10 Run Scorers\")\n",
    "plt.xlabel(\"Runs\")\n",
    "plt.ylabel(\"Player\")\n",
    "plt.tight_layout()\n",
    "plt.show()"
   ]
  },
  {
   "cell_type": "code",
   "execution_count": null,
   "id": "6ed2a4c5-fb05-459e-848b-21c8e1cc3298",
   "metadata": {},
   "outputs": [],
   "source": [
    "# Finding:\n",
    "# Players like Sai Sudharsan, Surya Kumar Yadav, and Virat Kohli are top run scorers."
   ]
  },
  {
   "cell_type": "code",
   "execution_count": 69,
   "id": "ef15f24c-1822-41db-a8e7-48d0346ca990",
   "metadata": {},
   "outputs": [
    {
     "data": {
      "image/png": "[encoded data removed]",
      "text/plain": [
       "<Figure size 800x500 with 1 Axes>"
      ]
     },
     "metadata": {},
     "output_type": "display_data"
    }
   ],
   "source": [
    "plt.figure(figsize=(8, 5))\n",
    "sns.scatterplot(data,x='SR', y='Runs', hue='Team')\n",
    "plt.title(\"Strike Rate vs Runs\")\n",
    "plt.xlabel(\"Strike Rate\")\n",
    "plt.ylabel(\"Runs\")\n",
    "plt.legend(bbox_to_anchor=(1.05, 1), loc='upper left')\n",
    "plt.tight_layout()\n",
    "plt.show()"
   ]
  },
  {
   "cell_type": "code",
   "execution_count": 73,
   "id": "89ffe423-0abe-4f40-9799-92f73a18aa58",
   "metadata": {},
   "outputs": [],
   "source": [
    "# Finding:\n",
    "# Players with high strike rate often contribute fewer runs (used as finishers),\n",
    "# while top scorers maintain balance between SR and innings played."
   ]
  },
  {
   "cell_type": "code",
   "execution_count": 70,
   "id": "9c564cfc-057a-4c9b-9de4-125840427195",
   "metadata": {},
   "outputs": [
    {
     "name": "stderr",
     "output_type": "stream",
     "text": [
      "C:\\Users\\Prakhar Shahi\\AppData\\Local\\Temp\\ipykernel_9748\\245337812.py:4: FutureWarning: \n",
      "\n",
      "Passing `palette` without assigning `hue` is deprecated and will be removed in v0.14.0. Assign the `y` variable to `hue` and set `legend=False` for the same effect.\n",
      "\n",
      "  sns.barplot(x=team_runs.values, y=team_runs.index, palette='coolwarm')\n"
     ]
    },
    {
     "data": {
      "image/png": "[encoded data removed]",
      "text/plain": [
       "<Figure size 1200x600 with 1 Axes>"
      ]
     },
     "metadata": {},
     "output_type": "display_data"
    }
   ],
   "source": [
    "team_runs = data.groupby('Team')['Runs'].sum().sort_values(ascending=False)\n",
    "\n",
    "plt.figure(figsize=(12, 6))\n",
    "sns.barplot(x=team_runs.values, y=team_runs.index, palette='coolwarm')\n",
    "plt.title(\"Total Runs by Team\")\n",
    "plt.xlabel(\"Runs\")\n",
    "plt.ylabel(\"Team\")\n",
    "plt.show()"
   ]
  },
  {
   "cell_type": "code",
   "execution_count": null,
   "id": "aaf42c55-9898-4863-8fc8-ca31c9111045",
   "metadata": {},
   "outputs": [],
   "source": [
    "# Finding:\n",
    "# Teams like GT, MI, and RCB contribute significantly to total run volume."
   ]
  },
  {
   "cell_type": "code",
   "execution_count": 71,
   "id": "f0e23db1-39dc-42b4-87be-4a4737e99876",
   "metadata": {},
   "outputs": [
    {
     "data": {
      "image/png": "[encoded data removed]",
      "text/plain": [
       "<Figure size 1000x600 with 2 Axes>"
      ]
     },
     "metadata": {},
     "output_type": "display_data"
    }
   ],
   "source": [
    "plt.figure(figsize=(10, 6))\n",
    "sns.heatmap(data.corr(numeric_only=True), annot=True, cmap='YlGnBu')\n",
    "plt.title(\"Correlation Between Numeric Features\")\n",
    "plt.show()"
   ]
  },
  {
   "cell_type": "code",
   "execution_count": null,
   "id": "96f76e05-05cd-4819-ac0e-64f7c8ad547a",
   "metadata": {},
   "outputs": [],
   "source": [
    "# Finding:\n",
    "#  Strong positive correlation between 'Runs' and 'BF' (more balls faced = more runs).\n",
    "#  Moderate positive correlation between 'Runs' and '4s'/'6s'."
   ]
  },
  {
   "cell_type": "markdown",
   "id": "92bc0590-7a10-4ded-9635-6ce868aa6c8f",
   "metadata": {},
   "source": [
    "# Summary:\n",
    "- Sai Sudharsan and Surya Kumar Yadav are top scorers.\n",
    "- High strike rates don't always mean high run totals (often finishers).\n",
    "- Some players have incomplete data (e.g., missing AVG or SR).\n",
    "- Teams like GT and MI dominate run contributions.\n",
    "- Positive correlation between runs and balls faced, fours, and sixes."
   ]
  },
  {
   "cell_type": "code",
   "execution_count": null,
   "id": "54a2970f-c88c-4159-b7af-54bf90f3e88d",
   "metadata": {},
   "outputs": [],
   "source": []
  }
 ],
 "metadata": {
  "kernelspec": {
   "display_name": "Python 3 (ipykernel)",
   "language": "python",
   "name": "python3"
  },
  "language_info": {
   "codemirror_mode": {
    "name": "ipython",
    "version": 3
   },
   "file_extension": ".py",
   "mimetype": "text/x-python",
   "name": "python",
   "nbconvert_exporter": "python",
   "pygments_lexer": "ipython3",
   "version": "3.12.10"
  }
 },
 "nbformat": 4,
 "nbformat_minor": 5
}
