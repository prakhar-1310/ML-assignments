{
 "cells": [
  {
   "cell_type": "markdown",
   "id": "695895f0-a80c-4c4f-9464-9349a171fbf1",
   "metadata": {},
   "source": [
    "# Custom Exception"
   ]
  },
  {
   "cell_type": "code",
   "execution_count": 3,
   "id": "17e3cdde-bc09-4cba-91e1-452e5227c914",
   "metadata": {},
   "outputs": [
    {
     "name": "stdin",
     "output_type": "stream",
     "text": [
      " 1\n",
      " 2\n"
     ]
    },
    {
     "ename": "Exception",
     "evalue": "b should be equal or smaller to a",
     "output_type": "error",
     "traceback": [
      "\u001b[31m---------------------------------------------------------------------------\u001b[39m",
      "\u001b[31mException\u001b[39m                                 Traceback (most recent call last)",
      "\u001b[36mCell\u001b[39m\u001b[36m \u001b[39m\u001b[32mIn[3]\u001b[39m\u001b[32m, line 6\u001b[39m\n\u001b[32m      4\u001b[39m     \u001b[38;5;28mprint\u001b[39m(a-b)\n\u001b[32m      5\u001b[39m \u001b[38;5;28;01melse\u001b[39;00m:\n\u001b[32m----> \u001b[39m\u001b[32m6\u001b[39m     \u001b[38;5;28;01mraise\u001b[39;00m \u001b[38;5;167;01mException\u001b[39;00m (\u001b[33m'\u001b[39m\u001b[33mb should be equal or smaller to a\u001b[39m\u001b[33m'\u001b[39m)\n",
      "\u001b[31mException\u001b[39m: b should be equal or smaller to a"
     ]
    }
   ],
   "source": [
    "a=int(input())\n",
    "b=int(input())\n",
    "if a>=b:\n",
    "    print(a-b)\n",
    "else:\n",
    "    raise Exception ('b should be equal or smaller to a')\n",
    "    "
   ]
  },
  {
   "cell_type": "markdown",
   "id": "d6df03e1-3198-4114-9fea-1b6f740d635c",
   "metadata": {},
   "source": [
    "# read 2D array and write it in CSV file"
   ]
  },
  {
   "cell_type": "code",
   "execution_count": 6,
   "id": "449344be-cea7-4753-b899-212dafb7dad3",
   "metadata": {},
   "outputs": [],
   "source": [
    "import numpy as np"
   ]
  },
  {
   "cell_type": "code",
   "execution_count": 12,
   "id": "cfaf0332-4f42-4863-a620-cf073bb4cbf4",
   "metadata": {},
   "outputs": [],
   "source": [
    "arr = np.array([\n",
    "    ['a','b','c'],\n",
    "    ['d','e','f'],\n",
    "    ['g','h','i']\n",
    "])"
   ]
  },
  {
   "cell_type": "code",
   "execution_count": 13,
   "id": "db7eebfa-d9b7-4089-bfcd-fbc8bc726444",
   "metadata": {},
   "outputs": [
    {
     "data": {
      "text/plain": [
       "array([['a', 'b', 'c'],\n",
       "       ['d', 'e', 'f'],\n",
       "       ['g', 'h', 'i']], dtype='<U1')"
      ]
     },
     "execution_count": 13,
     "metadata": {},
     "output_type": "execute_result"
    }
   ],
   "source": [
    "arr"
   ]
  },
  {
   "cell_type": "code",
   "execution_count": 14,
   "id": "9d3774cc-db4d-4fc9-96b0-cdeeec3f25c5",
   "metadata": {},
   "outputs": [],
   "source": [
    "file = open (\"data.csv\", 'w')"
   ]
  },
  {
   "cell_type": "code",
   "execution_count": 15,
   "id": "91da149b-7e3e-49d3-a105-27a3f16ed0e1",
   "metadata": {},
   "outputs": [],
   "source": [
    "for i in arr:\n",
    "    for j in i:\n",
    "        file.write(j)\n",
    "    file.write('\\n')"
   ]
  },
  {
   "cell_type": "code",
   "execution_count": 16,
   "id": "81e78432-e483-40d1-8043-37f4158c3d58",
   "metadata": {},
   "outputs": [],
   "source": [
    "file.close()"
   ]
  },
  {
   "cell_type": "code",
   "execution_count": 18,
   "id": "db6d6fcd-ad01-4db3-90fa-a442e5f3e268",
   "metadata": {},
   "outputs": [
    {
     "name": "stdout",
     "output_type": "stream",
     "text": [
      "abc\n",
      "def\n",
      "ghi\n",
      "\n"
     ]
    }
   ],
   "source": [
    "file = open(\"data.csv\", 'r')\n",
    "print(file.read())"
   ]
  },
  {
   "cell_type": "code",
   "execution_count": 19,
   "id": "2a460615-bf6c-44b4-abe4-356d88cf2490",
   "metadata": {},
   "outputs": [],
   "source": [
    "file.close()"
   ]
  },
  {
   "cell_type": "code",
   "execution_count": null,
   "id": "917d205e-7c2d-4cac-8ab0-8e4487a8cbe7",
   "metadata": {},
   "outputs": [],
   "source": []
  }
 ],
 "metadata": {
  "kernelspec": {
   "display_name": "Python 3 (ipykernel)",
   "language": "python",
   "name": "python3"
  },
  "language_info": {
   "codemirror_mode": {
    "name": "ipython",
    "version": 3
   },
   "file_extension": ".py",
   "mimetype": "text/x-python",
   "name": "python",
   "nbconvert_exporter": "python",
   "pygments_lexer": "ipython3",
   "version": "3.12.10"
  }
 },
 "nbformat": 4,
 "nbformat_minor": 5
}
